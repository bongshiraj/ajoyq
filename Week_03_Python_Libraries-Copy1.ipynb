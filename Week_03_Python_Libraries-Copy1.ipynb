{
 "cells": [
  {
   "cell_type": "markdown",
   "id": "ef5f2bfd",
   "metadata": {},
   "source": [
    "# Week#03: Introduction to Data Science with Python\n",
    "Course code: WM-ASDS04\n",
    "### Instructor: Farhana Afrin Duty, Deparment of Statistics, JU\n",
    "**Outlines:** \n",
    "- Numpy: ndarray\n",
    "- Pandas: DataFrame\n",
    "- Matplotlib:pyplot\n",
    "- Seaborn\n",
    "- Scikit-learn"
   ]
  },
  {
   "cell_type": "markdown",
   "id": "ffb326ef",
   "metadata": {},
   "source": [
    "**Some Quick Reviews**"
   ]
  },
  {
   "cell_type": "markdown",
   "id": "c7cd28b2",
   "metadata": {},
   "source": [
    "### Guess the integer between two numbers!"
   ]
  },
  {
   "cell_type": "code",
   "execution_count": 209,
   "id": "0f292f72",
   "metadata": {},
   "outputs": [
    {
     "name": "stdout",
     "output_type": "stream",
     "text": [
      "Target =  9\n",
      "Guess: 1\n",
      "Guess: 2\n",
      "Guess: 3\n",
      "Guess: 4\n",
      "Guess: 5\n",
      "Guess: 6\n",
      "Guess: 7\n",
      "Guess: 8\n",
      "Guess: 9\n",
      "\n",
      "Well guessed!\n"
     ]
    }
   ],
   "source": [
    "# guess the number until you get it right\n",
    "import random\n",
    "target_num = random.randint(1, 9)\n",
    "guess_num =  0\n",
    "print('Target = ',target_num)\n",
    "print('Guess a number between 1 and 9 until you get it right')\n",
    "while target_num != guess_num:\n",
    "    guess_num = int(input('Guess: '))\n",
    "print('\\nWell guessed!')"
   ]
  },
  {
   "cell_type": "code",
   "execution_count": 50,
   "id": "b624f427",
   "metadata": {},
   "outputs": [
    {
     "name": "stdout",
     "output_type": "stream",
     "text": [
      "6\n",
      "Guess a number between 1 to 9\n",
      "\n",
      "\n",
      "Your guess-4\n",
      "\n",
      "Too small! Try again!\n",
      "Your guess-5\n",
      "\n",
      "Too small! Try again!\n",
      "Your guess-6\n",
      "Congratulation!!! You won the game!\n"
     ]
    }
   ],
   "source": [
    "# Guess the number in fixed number of try\n",
    "import random\n",
    "    \n",
    "target_num=random.randint(1,9)\n",
    "print (target_num)\n",
    "print ('Guess a number between 1 to 9\\n\\n')\n",
    "count = 1\n",
    "while count<=3:\n",
    "    guess_num = int(input('Your guess-'))\n",
    "    if guess_num == target_num: print('Congratulation!!! You won the game!'); break\n",
    "    elif guess_num<target_num: print('\\nToo small! Try again!')\n",
    "    elif guess_num>target_num: print('\\nToo large! Try again!')\n",
    "    count+=1\n",
    "if count>3: print('\\nSorry, You lost! Better luck next time!')"
   ]
  },
  {
   "cell_type": "code",
   "execution_count": 51,
   "id": "fa6190e7",
   "metadata": {},
   "outputs": [],
   "source": [
    "# Write a function that allows you to guess the integer within the given range by fixed number of try\n",
    "def guess_the_number(a,b):\n",
    "    import random\n",
    "    import math\n",
    "    target_num=random.randint(a,b)\n",
    "    print (target_num)\n",
    "    print ('Guess a number between', a, 'and',b,'\\n')\n",
    "    count = 1\n",
    "    try_limit = int(math.log(b-a+1,2))\n",
    "    while count<=try_limit:\n",
    "        print('You can try',try_limit-count+1,' times:')\n",
    "        guess_num = int(input('Your guess is'))\n",
    "        if guess_num == target_num: print('Congratulation!!! You won the game!'); break\n",
    "        elif guess_num<target_num: print('Too small!\\n')\n",
    "        elif guess_num>target_num: print('Too large!\\n')\n",
    "        count+=1\n",
    "    if count>3: print('Sorry, You lost! Better luck next time!') \n",
    "\n",
    "guess_the_number(1,20)"
   ]
  },
  {
   "cell_type": "markdown",
   "id": "7769a97c",
   "metadata": {},
   "source": [
    "### Maximum Product of Three Numbers\n",
    "<br>Given an integer array nums, find three numbers whose product is maximum and return the maximum product.\n",
    "<br>**1.** **Input:** nums = [1,2,3] **Expected Output:** 6\n",
    "<br>**2. Input:** nums = [1,2,3,4] **Expected Output:** 24"
   ]
  },
  {
   "cell_type": "code",
   "execution_count": 82,
   "id": "a2cba82d",
   "metadata": {},
   "outputs": [],
   "source": [
    "num = [-6,2,3,4]\n",
    "\n",
    "def max_prod(num):\n",
    "    num = sorted(num,reverse = False)\n",
    "    print('The sorted list is =', num)\n",
    "    for index in range(0,len(num),1):\n",
    "        prod_1=num[0]*num[1]*num[-1]\n",
    "        prod_2=num[-1]*num[-2]*num[-3]\n",
    "    print('\\nThe maximum product of three numbers is:',max(prod_1,prod_2))\n",
    "max_prod([1,2,-3,-4])"
   ]
  },
  {
   "cell_type": "markdown",
   "id": "44bb4286",
   "metadata": {},
   "source": [
    "### Valid Perfect Square\n",
    "Given a positive integer num, write a function which returns True if num is a perfect square else False.\n",
    "<br> **1:** Input: num = 16, Expected Output: true\n",
    "<br> **2:** Input: num = 14, Expected Output: false"
   ]
  },
  {
   "cell_type": "code",
   "execution_count": 94,
   "id": "4480697f",
   "metadata": {},
   "outputs": [
    {
     "name": "stdout",
     "output_type": "stream",
     "text": [
      "square root =  3.605551275463989\n",
      "square root (integer part only) =  3\n",
      "False\n"
     ]
    }
   ],
   "source": [
    "def isPerfectSquare(num):\n",
    "    print(\"square root = \", num**0.5)\n",
    "    print(\"square root (integer part only) = \", int(num**0.5))\n",
    "    return print(int(num**0.5) == num**0.5)\n",
    "#     return int(num**0.5) == num**0.5\n",
    "\n",
    "isPerfectSquare(13)"
   ]
  },
  {
   "cell_type": "markdown",
   "id": "552ec50e",
   "metadata": {},
   "source": [
    "### Power of Two\n",
    "How to check if a number is a power of 2 in python. Given an integer n, return true if it is a power of two. Otherwise, return false. An integer n is a power of two, if there exists an integer x such that n == 2^x.\n",
    "<br>**1:** Input: n = 1, Expected Output: true, Explanation: 2^0 = 1\n",
    "<br>**2:** Input: n = 16, Expected Output: true, Explanation: 2^4 = 16\n",
    "<br>**3:** Input: n = 3, Output: false, Example 4:**"
   ]
  },
  {
   "cell_type": "code",
   "execution_count": 111,
   "id": "843d888e",
   "metadata": {},
   "outputs": [
    {
     "name": "stdout",
     "output_type": "stream",
     "text": [
      "power= 4.0\n"
     ]
    },
    {
     "data": {
      "text/plain": [
       "True"
      ]
     },
     "execution_count": 111,
     "metadata": {},
     "output_type": "execute_result"
    }
   ],
   "source": [
    "def isPowerOfTwo(n):\n",
    "    import math\n",
    "    if n <= 0: return False\n",
    "    x = math.log10(n)/math.log10(2)\n",
    "    print('power=',x)\n",
    "    return n == 2**int(x)\n",
    "\n",
    "isPowerOfTwo(16)"
   ]
  },
  {
   "cell_type": "code",
   "execution_count": null,
   "id": "db09b2bd",
   "metadata": {},
   "outputs": [],
   "source": []
  },
  {
   "cell_type": "markdown",
   "id": "2a00b920",
   "metadata": {},
   "source": [
    "## Python packages for data scientists\n",
    "<br>[NumPy](https://numpy.org)\n",
    " - Introduces objects for handling n-dimensional arrays such as vectors (1-D) and matrices (2-D)\n",
    " - Introduces functions to perform advanced mathematical and statistical operations on these objects\n",
    " - Provides vectorization of mathematical operations on arrays and matrices which significantly improves the performance \n",
    " - Many other Python libraries are built on NumPy\n",
    "\n",
    "[Pandas](https://pandas.pydata.org)\n",
    "  - Adds data structures and tools designed to work with table-like data (similar to Vectors and Data Frames in R)\n",
    "  - Provides tools for data maniuplation: *reshaping*, *merging*, *sorting*, *slicing*, *aggregation*, etc.\n",
    "  - Easily allows to handle missing data\n",
    "\n",
    "[matplotlib](https://matplotlib.org/)\n",
    " - Python 2-D plotting library for pulibcation quality figures in a variety of hardcopy formats\n",
    " - Functionalities similar to MATLAB\n",
    " - Line plots, scatter plots, bar charts, histograms, pie charts, etc.\n",
    " - Effort needed to create advanced visualizations\n",
    "\n",
    "[seaborn](https://seaborn.pydata.org/)\n",
    " - Based on matplotlib\n",
    " - Provides a high-level interface for drawing attractive statistical graphs\n",
    "\n",
    "[SciKit-Learn](https://scikit-learn.org/stable/)\n",
    " - Provides machine learning algorithms: classification, regression, clustering, model validation, etc.\n",
    " - Built on NumPy, matplotlib\n",
    "\n",
    "**Many others:**\n",
    "  - [SciPy](https://scipy.org)\n",
    "  - [plotly](https://plotly.com/python/)\n",
    "  - [Keras](https://keras.io/)\n",
    "  - [Pytorch](https://pytorch.org/)\n",
    "  - [Tensorflow](https://www.tensorflow.org/)"
   ]
  },
  {
   "cell_type": "code",
   "execution_count": null,
   "id": "adaf9dcf",
   "metadata": {},
   "outputs": [],
   "source": []
  },
  {
   "cell_type": "markdown",
   "id": "438d9d63",
   "metadata": {},
   "source": [
    "## Numpy\n",
    "- Numerical Python"
   ]
  },
  {
   "cell_type": "code",
   "execution_count": 212,
   "id": "3c6a22e1",
   "metadata": {},
   "outputs": [
    {
     "data": {
      "text/plain": [
       "array([[ 0,  1,  2],\n",
       "       [ 3,  4,  5],\n",
       "       [ 6,  7,  8],\n",
       "       [ 9, 10, 11],\n",
       "       [12, 13, 14]])"
      ]
     },
     "execution_count": 212,
     "metadata": {},
     "output_type": "execute_result"
    }
   ],
   "source": [
    "import numpy as np\n",
    "\n",
    "a = np.arange(15).reshape(5,3)\n",
    "a"
   ]
  },
  {
   "cell_type": "code",
   "execution_count": 213,
   "id": "6765bd85",
   "metadata": {},
   "outputs": [
    {
     "data": {
      "text/plain": [
       "(5, 3)"
      ]
     },
     "execution_count": 213,
     "metadata": {},
     "output_type": "execute_result"
    }
   ],
   "source": [
    "a.shape"
   ]
  },
  {
   "cell_type": "code",
   "execution_count": 215,
   "id": "65ae8fc5",
   "metadata": {},
   "outputs": [
    {
     "data": {
      "text/plain": [
       "15"
      ]
     },
     "execution_count": 215,
     "metadata": {},
     "output_type": "execute_result"
    }
   ],
   "source": [
    "a.size"
   ]
  },
  {
   "cell_type": "code",
   "execution_count": 190,
   "id": "1e4dfef6",
   "metadata": {},
   "outputs": [
    {
     "data": {
      "text/plain": [
       "'int32'"
      ]
     },
     "execution_count": 190,
     "metadata": {},
     "output_type": "execute_result"
    }
   ],
   "source": [
    "import numpy as np\n",
    "\n",
    "a = np.arange(15).reshape(3, 5)\n",
    "\n",
    "# a\n",
    "\n",
    "a.shape\n",
    "\n",
    "# a.ndim\n",
    "\n",
    "# a.dtype.name\n",
    "\n",
    "# a.itemsize\n",
    "\n",
    "# a.size\n",
    "\n",
    "# type(a)\n",
    "\n",
    "# b = np.array([6, 7, 8])\n",
    "# b\n",
    "\n",
    "# type(b)\n"
   ]
  },
  {
   "cell_type": "code",
   "execution_count": 216,
   "id": "1039d601",
   "metadata": {},
   "outputs": [
    {
     "data": {
      "text/plain": [
       "numpy.ndarray"
      ]
     },
     "execution_count": 216,
     "metadata": {},
     "output_type": "execute_result"
    }
   ],
   "source": [
    "type(a)"
   ]
  },
  {
   "cell_type": "code",
   "execution_count": null,
   "id": "97736131",
   "metadata": {},
   "outputs": [],
   "source": []
  },
  {
   "cell_type": "markdown",
   "id": "ceaea1ea",
   "metadata": {},
   "source": [
    "### Array Creation"
   ]
  },
  {
   "cell_type": "code",
   "execution_count": 218,
   "id": "eb7a3e9d",
   "metadata": {},
   "outputs": [
    {
     "name": "stdout",
     "output_type": "stream",
     "text": [
      "<class 'list'>\n"
     ]
    },
    {
     "data": {
      "text/plain": [
       "numpy.ndarray"
      ]
     },
     "execution_count": 218,
     "metadata": {},
     "output_type": "execute_result"
    }
   ],
   "source": [
    "# create an array from list or tupple\n",
    "import numpy as np\n",
    "list1=[2,3,4]\n",
    "a = np.array(list1)\n",
    "a\n",
    "print(type(list1))\n",
    "type(a)\n",
    "# a.dtype\n",
    "# b = np.array([1.2, 3.5, 5.1])\n",
    "# b.dtype"
   ]
  },
  {
   "cell_type": "code",
   "execution_count": null,
   "id": "81b1ec1c",
   "metadata": {},
   "outputs": [],
   "source": []
  },
  {
   "cell_type": "code",
   "execution_count": 219,
   "id": "c7f2ae52",
   "metadata": {},
   "outputs": [
    {
     "data": {
      "text/plain": [
       "array([[1.5, 2. , 3. ],\n",
       "       [4. , 5. , 6. ]])"
      ]
     },
     "execution_count": 219,
     "metadata": {},
     "output_type": "execute_result"
    }
   ],
   "source": [
    "b = np.array([(1.5, 2, 3), (4, 5, 6)])\n",
    "b"
   ]
  },
  {
   "cell_type": "code",
   "execution_count": 175,
   "id": "f0ef7584",
   "metadata": {},
   "outputs": [
    {
     "data": {
      "text/plain": [
       "array([[1.+0.j, 2.+0.j],\n",
       "       [3.+0.j, 4.+0.j]])"
      ]
     },
     "execution_count": 175,
     "metadata": {},
     "output_type": "execute_result"
    }
   ],
   "source": [
    "c = np.array([[1, 2], [3, 4]], dtype=complex)\n",
    "c"
   ]
  },
  {
   "cell_type": "code",
   "execution_count": 220,
   "id": "ddfbadd7",
   "metadata": {},
   "outputs": [
    {
     "data": {
      "text/plain": [
       "array([[0., 0., 0., 0.],\n",
       "       [0., 0., 0., 0.],\n",
       "       [0., 0., 0., 0.]])"
      ]
     },
     "execution_count": 220,
     "metadata": {},
     "output_type": "execute_result"
    }
   ],
   "source": [
    "# array of zeros\n",
    "np.zeros((3, 4))\n",
    "\n",
    "# array of ones\n",
    "# np.ones((2, 3, 4), dtype=np.int16)"
   ]
  },
  {
   "cell_type": "code",
   "execution_count": 181,
   "id": "fb2a6727",
   "metadata": {},
   "outputs": [
    {
     "data": {
      "text/plain": [
       "array([10, 15, 20, 25])"
      ]
     },
     "execution_count": 181,
     "metadata": {},
     "output_type": "execute_result"
    }
   ],
   "source": [
    "# sequence of numbers\n",
    "np.arange(10, 30, 5)\n",
    "\n",
    "np.arange(0, 2, 0.3)"
   ]
  },
  {
   "cell_type": "code",
   "execution_count": 185,
   "id": "5acd8db9",
   "metadata": {},
   "outputs": [],
   "source": [
    "#fixed number of elements with equal distance\n",
    "from numpy import pi\n",
    "np.linspace(0, 2, 9)                   # 9 numbers from 0 to 2\n",
    "x = np.linspace(0, 2 * pi, 100)        # useful to evaluate function at lots of points\n",
    "f = np.sin(x)"
   ]
  },
  {
   "cell_type": "code",
   "execution_count": null,
   "id": "0fb67740",
   "metadata": {},
   "outputs": [],
   "source": []
  },
  {
   "cell_type": "markdown",
   "id": "74e00b8f",
   "metadata": {},
   "source": [
    "Comparison of List and NumPy array"
   ]
  },
  {
   "cell_type": "code",
   "execution_count": 1,
   "id": "d90017ac",
   "metadata": {},
   "outputs": [
    {
     "data": {
      "text/plain": [
       "9"
      ]
     },
     "execution_count": 1,
     "metadata": {},
     "output_type": "execute_result"
    }
   ],
   "source": [
    "import numpy as np\n",
    "list_1 = [1,2,3,4,5,6,7,8,9]\n",
    "list_2 = [1,-2,3,-4,5,-6,7,-8,9]\n",
    "\n",
    "# list_add = list_1 + list_2\n",
    "# print(list_add)\n",
    "\n",
    "# list_sub = list_1 - list_2\n",
    "# print(list_sub)\n",
    "\n",
    "# list_mul = list_1 * list_2\n",
    "# print(list_mul)\n",
    "\n",
    "# list_sub = list_1 / list_2\n",
    "# print(list_sub)\n",
    "[1, 2, 3, 4, 5, 6, 7, 8, 9, 1, -2, 3, -4, 5, -6, 7, -8, 9]\n",
    "\n",
    "len(list_1)\n",
    "len(list_2)"
   ]
  },
  {
   "cell_type": "code",
   "execution_count": 2,
   "id": "dc1fbe8a",
   "metadata": {},
   "outputs": [
    {
     "name": "stdout",
     "output_type": "stream",
     "text": [
      "addition of two array =  [ 2  0  6  0 10  0 14  0 18]\n",
      "<class 'numpy.ndarray'>\n",
      "subtraction of two array =  [ 0  4  0  8  0 12  0 16  0]\n",
      "multiplication of two array =  [  1  -4   9 -16  25 -36  49 -64  81]\n",
      "division of two array =  [ 1. -1.  1. -1.  1. -1.  1. -1.  1.]\n",
      "remainder after dividing two arrays =  [0 0 0 0 0 0 0 0 0]\n"
     ]
    }
   ],
   "source": [
    "arr_1 = np.array(list_1)\n",
    "arr_2 = np.array([1,-2,3,-4,5,-6,7,-8,9])\n",
    "\n",
    "# print(type(arr_1))\n",
    "# print(type(arr_2))\n",
    "# print(arr_2.dtype)\n",
    "\n",
    "arr_add = arr_1 + arr_2\n",
    "print(\"addition of two array = \", arr_add)\n",
    "print(type(arr_add))\n",
    "\n",
    "# arr_add = np.add(arr_3, arr_4)\n",
    "# print(arr_add)\n",
    "\n",
    "arr_sub = arr_1 - arr_2\n",
    "print(\"subtraction of two array = \", arr_sub)\n",
    "\n",
    "# arr_sub = np.subtract(arr_3, arr_4)\n",
    "# print(arr_sub)\n",
    "\n",
    "arr_mul = arr_1 * arr_2\n",
    "print(\"multiplication of two array = \", arr_mul)\n",
    "\n",
    "# arr_mul = np.multiply(arr_3, arr_4)\n",
    "# print(arr_mul)\n",
    "\n",
    "arr_div = arr_1 / arr_2\n",
    "print(\"division of two array = \", arr_div)\n",
    "\n",
    "# arr_div = np.divide(arr_1, arr_2)\n",
    "# print(arr_div)\n",
    "\n",
    "arr_mod = np.mod(arr_1, arr_2)\n",
    "print(\"remainder after dividing two arrays = \", arr_mod)"
   ]
  },
  {
   "cell_type": "code",
   "execution_count": null,
   "id": "5534bf51",
   "metadata": {},
   "outputs": [],
   "source": []
  },
  {
   "cell_type": "code",
   "execution_count": null,
   "id": "8eff8294",
   "metadata": {},
   "outputs": [],
   "source": [
    "arr_3 = np.array([[1,2,3], \n",
    "                  [4,5,6]])\n",
    "\n",
    "arr_4 = np.array([[1,2,3], \n",
    "                  [4,5,6]])\n",
    "\n",
    "print(\"array_3 = \\n\", arr_3)\n",
    "print(type(arr_3))\n",
    "print(arr_4.shape)\n",
    "print(\"array_4 = \\n\", arr_4)\n",
    "\n",
    "arr2d_add = arr_3 + arr_4\n",
    "print(\"2d array addition = \\n\", arr2d_add)\n",
    "\n",
    "arr2d_mul = arr_3 * arr_4\n",
    "print(\"2d array multiplication = \\n\", arr2d_mul)"
   ]
  },
  {
   "cell_type": "code",
   "execution_count": 196,
   "id": "fed03b24",
   "metadata": {},
   "outputs": [
    {
     "name": "stdout",
     "output_type": "stream",
     "text": [
      "[ 2  4  8 16 32]\n",
      "[ 1  4  9 16 25]\n",
      "[1.05 2.   3.5  4.   5.75]\n",
      "[ 2. -2.  4. -4.  6.]\n",
      "[ 1. -2.  3. -4.  5.]\n"
     ]
    }
   ],
   "source": [
    "arr_5 = np.array([2, 2, 2, 2, 2])\n",
    "arr_6 = np.array([1, 2, 3, 4, 5])\n",
    "arr_7 = np.array([1.05, -2, 3.5, -4, 5.75])\n",
    "\n",
    "arr_pow = np.power(arr_5, arr_6)\n",
    "print(arr_pow)\n",
    "\n",
    "arr_square = np.square(arr_6)\n",
    "print(arr_square)\n",
    "\n",
    "arr_abs = np.abs(arr_7)\n",
    "print(arr_abs)\n",
    "\n",
    "arr_ceil = np.ceil(arr_7)\n",
    "print(arr_ceil)\n",
    "\n",
    "arr_floor = np.floor(arr_7)\n",
    "print(arr_floor)\n",
    "\n",
    "arr_round = np.round(arr_7)\n",
    "print(arr_round)"
   ]
  },
  {
   "cell_type": "code",
   "execution_count": null,
   "id": "3202fc71",
   "metadata": {},
   "outputs": [],
   "source": []
  },
  {
   "cell_type": "markdown",
   "id": "91bbfb59",
   "metadata": {},
   "source": [
    "array sum\n"
   ]
  },
  {
   "cell_type": "code",
   "execution_count": null,
   "id": "5efa065e",
   "metadata": {},
   "outputs": [],
   "source": [
    "arr_sum = np.sum([arr_5, arr_6])\n",
    "print(arr_sum)\n",
    "\n",
    "column_sum = np.sum([arr_5, arr_6], axis=0)\n",
    "print(column_sum)\n",
    "\n",
    "row_sum = np.sum([arr_5, arr_6], axis=1)\n",
    "print(row_sum)\n",
    "25\n",
    "[3 4 5 6 7]\n",
    "[10 15]\n"
   ]
  },
  {
   "cell_type": "markdown",
   "id": "62b3333b",
   "metadata": {},
   "source": [
    "array product\n"
   ]
  },
  {
   "cell_type": "code",
   "execution_count": null,
   "id": "da91eb53",
   "metadata": {},
   "outputs": [],
   "source": [
    "arr_prod = np.prod([arr_5, arr_6])\n",
    "print(arr_prod)\n",
    "\n",
    "column_prod = np.prod([arr_5, arr_6], axis=0)\n",
    "print(column_prod)\n",
    "\n",
    "row_prod = np.prod([arr_5, arr_6], axis=1)\n",
    "print(row_prod)\n",
    "3840\n",
    "[ 2  4  6  8 10]\n",
    "[ 32 120]\n"
   ]
  },
  {
   "cell_type": "markdown",
   "id": "1d27f830",
   "metadata": {},
   "source": [
    "Matrix operation"
   ]
  },
  {
   "cell_type": "code",
   "execution_count": 198,
   "id": "61473b78",
   "metadata": {},
   "outputs": [
    {
     "name": "stdout",
     "output_type": "stream",
     "text": [
      "[[1 2 3]\n",
      " [4 5 6]\n",
      " [7 8 9]]\n",
      "[1 5 9]\n"
     ]
    }
   ],
   "source": [
    "\n",
    "arr_8 = np.array([[1,0,0], \n",
    "                  [0,1,0],\n",
    "                  [0,0,1]])\n",
    "\n",
    "arr_9 = np.array([[1,2,3], \n",
    "                  [4,5,6],\n",
    "                  [7,8,9]])\n",
    "\n",
    "arr_matmul = np.matmul(arr_8, arr_9)\n",
    "print(arr_matmul)\n",
    "\n",
    "arr_diag = np.diag(arr_9)\n",
    "print(arr_diag)\n"
   ]
  },
  {
   "cell_type": "code",
   "execution_count": 199,
   "id": "a559e7f9",
   "metadata": {},
   "outputs": [
    {
     "data": {
      "text/plain": [
       "array([[1., 0., 0.],\n",
       "       [0., 1., 0.],\n",
       "       [0., 0., 1.]])"
      ]
     },
     "execution_count": 199,
     "metadata": {},
     "output_type": "execute_result"
    }
   ],
   "source": [
    "np.eye(3)"
   ]
  },
  {
   "cell_type": "markdown",
   "id": "b73fc6f5",
   "metadata": {},
   "source": [
    "Creating new matrix"
   ]
  },
  {
   "cell_type": "code",
   "execution_count": null,
   "id": "7851c0af",
   "metadata": {},
   "outputs": [],
   "source": [
    "identity_matrix = np.eye(3)\n",
    "print(identity_matrix)\n",
    "\n",
    "identity_ones = np.ones((3,3))\n",
    "print(identity_ones)\n",
    "[[1. 0. 0.]\n",
    " [0. 1. 0.]\n",
    " [0. 0. 1.]]\n",
    "[[1. 1. 1.]\n",
    " [1. 1. 1.]\n",
    " [1. 1. 1.]]\n"
   ]
  },
  {
   "cell_type": "code",
   "execution_count": null,
   "id": "03a67014",
   "metadata": {},
   "outputs": [],
   "source": []
  },
  {
   "cell_type": "markdown",
   "id": "a399c9d3",
   "metadata": {},
   "source": [
    "Array indexing and slicing"
   ]
  },
  {
   "cell_type": "code",
   "execution_count": null,
   "id": "26e69ef1",
   "metadata": {},
   "outputs": [],
   "source": [
    "\n",
    "# print(arr_3[0])\n",
    "# print(arr_3[1])\n",
    "# print(arr_3[0,0])\n",
    "# print(arr_3[0,1])\n",
    "# print(arr_3[0,2])\n",
    "# print(arr_3[1,0])\n",
    "# print(arr_3[1,1])\n",
    "# print(arr_3[1,2])\n",
    "\n",
    "# print(arr_3[0,-1])\n",
    "# print(arr_3[0,-2])\n",
    "# print(arr_3[0,-3])\n",
    "\n",
    "print(arr_3[:,0:1])\n",
    "# print(arr_3[1:])\n",
    "[[1]\n",
    " [4]]\n"
   ]
  },
  {
   "cell_type": "code",
   "execution_count": null,
   "id": "b3ca850e",
   "metadata": {},
   "outputs": [],
   "source": []
  },
  {
   "cell_type": "markdown",
   "id": "1c3c60f8",
   "metadata": {},
   "source": [
    "numpy array filtering"
   ]
  },
  {
   "cell_type": "code",
   "execution_count": null,
   "id": "970285e7",
   "metadata": {},
   "outputs": [],
   "source": [
    "\n",
    "arr = np.array([1, 2, 3, 4, 5, 4, 4])\n",
    "\n",
    "find_four = np.where(arr == 4)\n",
    "find_even = np.where(arr%2 == 0)\n",
    "find_odd = np.where(arr%2 == 1)\n",
    "\n",
    "print(\"index of value 4 : \", find_four)\n",
    "print(\"index of the even numbers in the array : \", find_even)\n",
    "print(\"index of the odd numbers in the array : \", find_odd)"
   ]
  },
  {
   "cell_type": "code",
   "execution_count": null,
   "id": "2677384a",
   "metadata": {},
   "outputs": [],
   "source": [
    "find = arr[arr >= 4]\n",
    "\n",
    "print(arr >= 4)\n",
    "print(find)"
   ]
  },
  {
   "cell_type": "code",
   "execution_count": null,
   "id": "71555598",
   "metadata": {},
   "outputs": [],
   "source": []
  },
  {
   "cell_type": "markdown",
   "id": "b07dc184",
   "metadata": {},
   "source": [
    "## Pandas"
   ]
  },
  {
   "cell_type": "markdown",
   "id": "eb94b252",
   "metadata": {},
   "source": [
    "- import libraries"
   ]
  },
  {
   "cell_type": "code",
   "execution_count": 3,
   "id": "b1da184e",
   "metadata": {},
   "outputs": [],
   "source": [
    "import numpy as np\n",
    "import pandas as pd"
   ]
  },
  {
   "cell_type": "markdown",
   "id": "bd74fd40",
   "metadata": {},
   "source": [
    "Pandas Object:\n",
    "- Series\n",
    "- DataFrame"
   ]
  },
  {
   "cell_type": "code",
   "execution_count": 5,
   "id": "5a155746",
   "metadata": {},
   "outputs": [
    {
     "data": {
      "text/plain": [
       "0    1.0\n",
       "1    3.0\n",
       "2    5.0\n",
       "3    NaN\n",
       "4    6.0\n",
       "5    8.0\n",
       "dtype: float64"
      ]
     },
     "execution_count": 5,
     "metadata": {},
     "output_type": "execute_result"
    }
   ],
   "source": [
    "# Creating Series\n",
    "s = pd.Series([1, 3, 5, np.nan, 6, 8])\n",
    "s"
   ]
  },
  {
   "cell_type": "code",
   "execution_count": 231,
   "id": "8fc1f5db",
   "metadata": {},
   "outputs": [],
   "source": [
    "data= np.random.randn(6, 4)"
   ]
  },
  {
   "cell_type": "code",
   "execution_count": null,
   "id": "2446cc93",
   "metadata": {},
   "outputs": [],
   "source": []
  },
  {
   "cell_type": "code",
   "execution_count": 234,
   "id": "5e951760",
   "metadata": {
    "scrolled": true
   },
   "outputs": [
    {
     "name": "stdout",
     "output_type": "stream",
     "text": [
      "DatetimeIndex(['2013-01-01', '2013-01-02', '2013-01-03', '2013-01-04',\n",
      "               '2013-01-05', '2013-01-06'],\n",
      "              dtype='datetime64[ns]', freq='D')\n"
     ]
    },
    {
     "data": {
      "text/html": [
       "<div>\n",
       "<style scoped>\n",
       "    .dataframe tbody tr th:only-of-type {\n",
       "        vertical-align: middle;\n",
       "    }\n",
       "\n",
       "    .dataframe tbody tr th {\n",
       "        vertical-align: top;\n",
       "    }\n",
       "\n",
       "    .dataframe thead th {\n",
       "        text-align: right;\n",
       "    }\n",
       "</style>\n",
       "<table border=\"1\" class=\"dataframe\">\n",
       "  <thead>\n",
       "    <tr style=\"text-align: right;\">\n",
       "      <th></th>\n",
       "      <th>A</th>\n",
       "      <th>B</th>\n",
       "      <th>C</th>\n",
       "      <th>D</th>\n",
       "    </tr>\n",
       "  </thead>\n",
       "  <tbody>\n",
       "    <tr>\n",
       "      <th>1</th>\n",
       "      <td>-0.196311</td>\n",
       "      <td>1.428869</td>\n",
       "      <td>0.476337</td>\n",
       "      <td>-1.871514</td>\n",
       "    </tr>\n",
       "    <tr>\n",
       "      <th>2</th>\n",
       "      <td>0.148894</td>\n",
       "      <td>-0.313212</td>\n",
       "      <td>-0.904572</td>\n",
       "      <td>0.895063</td>\n",
       "    </tr>\n",
       "    <tr>\n",
       "      <th>3</th>\n",
       "      <td>-0.203675</td>\n",
       "      <td>0.399916</td>\n",
       "      <td>-1.513418</td>\n",
       "      <td>-1.725585</td>\n",
       "    </tr>\n",
       "    <tr>\n",
       "      <th>4</th>\n",
       "      <td>-0.493592</td>\n",
       "      <td>0.156909</td>\n",
       "      <td>0.827884</td>\n",
       "      <td>-1.650604</td>\n",
       "    </tr>\n",
       "    <tr>\n",
       "      <th>5</th>\n",
       "      <td>-0.128348</td>\n",
       "      <td>-0.174495</td>\n",
       "      <td>-0.287228</td>\n",
       "      <td>0.414043</td>\n",
       "    </tr>\n",
       "    <tr>\n",
       "      <th>6</th>\n",
       "      <td>0.932819</td>\n",
       "      <td>-0.923777</td>\n",
       "      <td>0.400741</td>\n",
       "      <td>0.006599</td>\n",
       "    </tr>\n",
       "  </tbody>\n",
       "</table>\n",
       "</div>"
      ],
      "text/plain": [
       "          A         B         C         D\n",
       "1 -0.196311  1.428869  0.476337 -1.871514\n",
       "2  0.148894 -0.313212 -0.904572  0.895063\n",
       "3 -0.203675  0.399916 -1.513418 -1.725585\n",
       "4 -0.493592  0.156909  0.827884 -1.650604\n",
       "5 -0.128348 -0.174495 -0.287228  0.414043\n",
       "6  0.932819 -0.923777  0.400741  0.006599"
      ]
     },
     "execution_count": 234,
     "metadata": {},
     "output_type": "execute_result"
    }
   ],
   "source": [
    "# Creating DataFrame\n",
    "dates = pd.date_range(\"20130101\", periods=6)\n",
    "print(dates)\n",
    "df = pd.DataFrame(data, index= [1,2,3,4,5,6], columns= ['A','B','C','D'] )\n",
    "# df = pd.DataFrame(data)\n",
    "df"
   ]
  },
  {
   "cell_type": "code",
   "execution_count": 235,
   "id": "c9c3d83c",
   "metadata": {},
   "outputs": [
    {
     "data": {
      "text/html": [
       "<div>\n",
       "<style scoped>\n",
       "    .dataframe tbody tr th:only-of-type {\n",
       "        vertical-align: middle;\n",
       "    }\n",
       "\n",
       "    .dataframe tbody tr th {\n",
       "        vertical-align: top;\n",
       "    }\n",
       "\n",
       "    .dataframe thead th {\n",
       "        text-align: right;\n",
       "    }\n",
       "</style>\n",
       "<table border=\"1\" class=\"dataframe\">\n",
       "  <thead>\n",
       "    <tr style=\"text-align: right;\">\n",
       "      <th></th>\n",
       "      <th>A</th>\n",
       "      <th>B</th>\n",
       "      <th>C</th>\n",
       "      <th>D</th>\n",
       "      <th>E</th>\n",
       "      <th>F</th>\n",
       "    </tr>\n",
       "  </thead>\n",
       "  <tbody>\n",
       "    <tr>\n",
       "      <th>0</th>\n",
       "      <td>1.0</td>\n",
       "      <td>2013-01-02</td>\n",
       "      <td>1.0</td>\n",
       "      <td>3</td>\n",
       "      <td>test</td>\n",
       "      <td>foo</td>\n",
       "    </tr>\n",
       "    <tr>\n",
       "      <th>1</th>\n",
       "      <td>1.0</td>\n",
       "      <td>2013-01-02</td>\n",
       "      <td>1.0</td>\n",
       "      <td>3</td>\n",
       "      <td>train</td>\n",
       "      <td>foo</td>\n",
       "    </tr>\n",
       "    <tr>\n",
       "      <th>2</th>\n",
       "      <td>1.0</td>\n",
       "      <td>2013-01-02</td>\n",
       "      <td>1.0</td>\n",
       "      <td>3</td>\n",
       "      <td>test</td>\n",
       "      <td>foo</td>\n",
       "    </tr>\n",
       "    <tr>\n",
       "      <th>3</th>\n",
       "      <td>1.0</td>\n",
       "      <td>2013-01-02</td>\n",
       "      <td>1.0</td>\n",
       "      <td>3</td>\n",
       "      <td>train</td>\n",
       "      <td>foo</td>\n",
       "    </tr>\n",
       "  </tbody>\n",
       "</table>\n",
       "</div>"
      ],
      "text/plain": [
       "     A          B    C  D      E    F\n",
       "0  1.0 2013-01-02  1.0  3   test  foo\n",
       "1  1.0 2013-01-02  1.0  3  train  foo\n",
       "2  1.0 2013-01-02  1.0  3   test  foo\n",
       "3  1.0 2013-01-02  1.0  3  train  foo"
      ]
     },
     "execution_count": 235,
     "metadata": {},
     "output_type": "execute_result"
    }
   ],
   "source": [
    "# Creating a DataFrame by passing a dictionary\n",
    "df2 = pd.DataFrame(\n",
    "    {\n",
    "        \"A\": 1.0,\n",
    "        \"B\": pd.Timestamp(\"20130102\"),\n",
    "        \"C\": pd.Series(1, index=list(range(4))),\n",
    "        \"D\": np.array([3] * 4),\n",
    "        \"E\": pd.Categorical([\"test\", \"train\", \"test\", \"train\"]),\n",
    "        \"F\": \"foo\",\n",
    "     }\n",
    " )\n",
    "\n",
    "df2\n"
   ]
  },
  {
   "cell_type": "code",
   "execution_count": 236,
   "id": "b89f9845",
   "metadata": {},
   "outputs": [
    {
     "data": {
      "text/html": [
       "<div>\n",
       "<style scoped>\n",
       "    .dataframe tbody tr th:only-of-type {\n",
       "        vertical-align: middle;\n",
       "    }\n",
       "\n",
       "    .dataframe tbody tr th {\n",
       "        vertical-align: top;\n",
       "    }\n",
       "\n",
       "    .dataframe thead th {\n",
       "        text-align: right;\n",
       "    }\n",
       "</style>\n",
       "<table border=\"1\" class=\"dataframe\">\n",
       "  <thead>\n",
       "    <tr style=\"text-align: right;\">\n",
       "      <th></th>\n",
       "      <th>A</th>\n",
       "      <th>B</th>\n",
       "      <th>C</th>\n",
       "      <th>D</th>\n",
       "      <th>E</th>\n",
       "      <th>F</th>\n",
       "      <th>Mahbub</th>\n",
       "    </tr>\n",
       "  </thead>\n",
       "  <tbody>\n",
       "    <tr>\n",
       "      <th>0</th>\n",
       "      <td>1.0</td>\n",
       "      <td>2013-01-02</td>\n",
       "      <td>1.0</td>\n",
       "      <td>3</td>\n",
       "      <td>test</td>\n",
       "      <td>foo</td>\n",
       "      <td>1</td>\n",
       "    </tr>\n",
       "    <tr>\n",
       "      <th>1</th>\n",
       "      <td>1.0</td>\n",
       "      <td>2013-01-02</td>\n",
       "      <td>1.0</td>\n",
       "      <td>3</td>\n",
       "      <td>train</td>\n",
       "      <td>foo</td>\n",
       "      <td>2</td>\n",
       "    </tr>\n",
       "    <tr>\n",
       "      <th>2</th>\n",
       "      <td>1.0</td>\n",
       "      <td>2013-01-02</td>\n",
       "      <td>1.0</td>\n",
       "      <td>3</td>\n",
       "      <td>test</td>\n",
       "      <td>foo</td>\n",
       "      <td>3</td>\n",
       "    </tr>\n",
       "    <tr>\n",
       "      <th>3</th>\n",
       "      <td>1.0</td>\n",
       "      <td>2013-01-02</td>\n",
       "      <td>1.0</td>\n",
       "      <td>3</td>\n",
       "      <td>train</td>\n",
       "      <td>foo</td>\n",
       "      <td>4</td>\n",
       "    </tr>\n",
       "  </tbody>\n",
       "</table>\n",
       "</div>"
      ],
      "text/plain": [
       "     A          B    C  D      E    F  Mahbub\n",
       "0  1.0 2013-01-02  1.0  3   test  foo       1\n",
       "1  1.0 2013-01-02  1.0  3  train  foo       2\n",
       "2  1.0 2013-01-02  1.0  3   test  foo       3\n",
       "3  1.0 2013-01-02  1.0  3  train  foo       4"
      ]
     },
     "execution_count": 236,
     "metadata": {},
     "output_type": "execute_result"
    }
   ],
   "source": [
    "df2['Mahbub']=[1,2,3,4]\n",
    "df2"
   ]
  },
  {
   "cell_type": "code",
   "execution_count": 237,
   "id": "1d5ff195",
   "metadata": {},
   "outputs": [
    {
     "name": "stdout",
     "output_type": "stream",
     "text": [
      "<class 'pandas.core.frame.DataFrame'>\n",
      "Int64Index: 4 entries, 0 to 3\n",
      "Data columns (total 7 columns):\n",
      " #   Column  Non-Null Count  Dtype         \n",
      "---  ------  --------------  -----         \n",
      " 0   A       4 non-null      float64       \n",
      " 1   B       4 non-null      datetime64[ns]\n",
      " 2   C       4 non-null      float32       \n",
      " 3   D       4 non-null      int32         \n",
      " 4   E       4 non-null      category      \n",
      " 5   F       4 non-null      object        \n",
      " 6   Mahbub  4 non-null      int64         \n",
      "dtypes: category(1), datetime64[ns](1), float32(1), float64(1), int32(1), int64(1), object(1)\n",
      "memory usage: 320.0+ bytes\n"
     ]
    }
   ],
   "source": [
    "df2.info()"
   ]
  },
  {
   "cell_type": "code",
   "execution_count": 241,
   "id": "de5e8437",
   "metadata": {},
   "outputs": [
    {
     "data": {
      "text/html": [
       "<div>\n",
       "<style scoped>\n",
       "    .dataframe tbody tr th:only-of-type {\n",
       "        vertical-align: middle;\n",
       "    }\n",
       "\n",
       "    .dataframe tbody tr th {\n",
       "        vertical-align: top;\n",
       "    }\n",
       "\n",
       "    .dataframe thead th {\n",
       "        text-align: right;\n",
       "    }\n",
       "</style>\n",
       "<table border=\"1\" class=\"dataframe\">\n",
       "  <thead>\n",
       "    <tr style=\"text-align: right;\">\n",
       "      <th></th>\n",
       "      <th>A</th>\n",
       "      <th>B</th>\n",
       "      <th>C</th>\n",
       "      <th>D</th>\n",
       "    </tr>\n",
       "  </thead>\n",
       "  <tbody>\n",
       "    <tr>\n",
       "      <th>count</th>\n",
       "      <td>6.000000</td>\n",
       "      <td>6.000000</td>\n",
       "      <td>6.000000</td>\n",
       "      <td>6.000000</td>\n",
       "    </tr>\n",
       "    <tr>\n",
       "      <th>mean</th>\n",
       "      <td>0.009964</td>\n",
       "      <td>0.095702</td>\n",
       "      <td>-0.166709</td>\n",
       "      <td>-0.655333</td>\n",
       "    </tr>\n",
       "    <tr>\n",
       "      <th>std</th>\n",
       "      <td>0.496357</td>\n",
       "      <td>0.794126</td>\n",
       "      <td>0.905242</td>\n",
       "      <td>1.232927</td>\n",
       "    </tr>\n",
       "    <tr>\n",
       "      <th>min</th>\n",
       "      <td>-0.493592</td>\n",
       "      <td>-0.923777</td>\n",
       "      <td>-1.513418</td>\n",
       "      <td>-1.871514</td>\n",
       "    </tr>\n",
       "    <tr>\n",
       "      <th>25%</th>\n",
       "      <td>-0.201834</td>\n",
       "      <td>-0.278533</td>\n",
       "      <td>-0.750236</td>\n",
       "      <td>-1.706839</td>\n",
       "    </tr>\n",
       "    <tr>\n",
       "      <th>50%</th>\n",
       "      <td>-0.162330</td>\n",
       "      <td>-0.008793</td>\n",
       "      <td>0.056756</td>\n",
       "      <td>-0.822002</td>\n",
       "    </tr>\n",
       "    <tr>\n",
       "      <th>75%</th>\n",
       "      <td>0.079583</td>\n",
       "      <td>0.339164</td>\n",
       "      <td>0.457438</td>\n",
       "      <td>0.312182</td>\n",
       "    </tr>\n",
       "    <tr>\n",
       "      <th>max</th>\n",
       "      <td>0.932819</td>\n",
       "      <td>1.428869</td>\n",
       "      <td>0.827884</td>\n",
       "      <td>0.895063</td>\n",
       "    </tr>\n",
       "  </tbody>\n",
       "</table>\n",
       "</div>"
      ],
      "text/plain": [
       "              A         B         C         D\n",
       "count  6.000000  6.000000  6.000000  6.000000\n",
       "mean   0.009964  0.095702 -0.166709 -0.655333\n",
       "std    0.496357  0.794126  0.905242  1.232927\n",
       "min   -0.493592 -0.923777 -1.513418 -1.871514\n",
       "25%   -0.201834 -0.278533 -0.750236 -1.706839\n",
       "50%   -0.162330 -0.008793  0.056756 -0.822002\n",
       "75%    0.079583  0.339164  0.457438  0.312182\n",
       "max    0.932819  1.428869  0.827884  0.895063"
      ]
     },
     "execution_count": 241,
     "metadata": {},
     "output_type": "execute_result"
    }
   ],
   "source": [
    "df.describe()"
   ]
  },
  {
   "cell_type": "code",
   "execution_count": 251,
   "id": "9e7a6673",
   "metadata": {},
   "outputs": [
    {
     "data": {
      "text/html": [
       "<div>\n",
       "<style scoped>\n",
       "    .dataframe tbody tr th:only-of-type {\n",
       "        vertical-align: middle;\n",
       "    }\n",
       "\n",
       "    .dataframe tbody tr th {\n",
       "        vertical-align: top;\n",
       "    }\n",
       "\n",
       "    .dataframe thead th {\n",
       "        text-align: right;\n",
       "    }\n",
       "</style>\n",
       "<table border=\"1\" class=\"dataframe\">\n",
       "  <thead>\n",
       "    <tr style=\"text-align: right;\">\n",
       "      <th></th>\n",
       "      <th>A</th>\n",
       "      <th>B</th>\n",
       "      <th>C</th>\n",
       "      <th>D</th>\n",
       "      <th>E</th>\n",
       "      <th>F</th>\n",
       "      <th>Mahbub</th>\n",
       "    </tr>\n",
       "  </thead>\n",
       "  <tbody>\n",
       "    <tr>\n",
       "      <th>1</th>\n",
       "      <td>1.0</td>\n",
       "      <td>2013-01-02</td>\n",
       "      <td>1.0</td>\n",
       "      <td>3</td>\n",
       "      <td>train</td>\n",
       "      <td>foo</td>\n",
       "      <td>2</td>\n",
       "    </tr>\n",
       "    <tr>\n",
       "      <th>2</th>\n",
       "      <td>1.0</td>\n",
       "      <td>2013-01-02</td>\n",
       "      <td>1.0</td>\n",
       "      <td>3</td>\n",
       "      <td>test</td>\n",
       "      <td>foo</td>\n",
       "      <td>3</td>\n",
       "    </tr>\n",
       "  </tbody>\n",
       "</table>\n",
       "</div>"
      ],
      "text/plain": [
       "     A          B    C  D      E    F  Mahbub\n",
       "1  1.0 2013-01-02  1.0  3  train  foo       2\n",
       "2  1.0 2013-01-02  1.0  3   test  foo       3"
      ]
     },
     "execution_count": 251,
     "metadata": {},
     "output_type": "execute_result"
    }
   ],
   "source": [
    "df2[1:3]"
   ]
  },
  {
   "cell_type": "code",
   "execution_count": 12,
   "id": "5d65c14b",
   "metadata": {},
   "outputs": [
    {
     "data": {
      "text/plain": [
       "A           float64\n",
       "B    datetime64[ns]\n",
       "C           float32\n",
       "D             int32\n",
       "E          category\n",
       "F            object\n",
       "dtype: object"
      ]
     },
     "execution_count": 12,
     "metadata": {},
     "output_type": "execute_result"
    }
   ],
   "source": [
    "# data types of the dataframe objects\n",
    "df2.dtypes"
   ]
  },
  {
   "cell_type": "code",
   "execution_count": 25,
   "id": "c13b9a54",
   "metadata": {},
   "outputs": [
    {
     "data": {
      "text/plain": [
       "<bound method DataFrame.append of      A          B    C  D      E    F\n",
       "0  1.0 2013-01-02  1.0  3   test  foo\n",
       "1  1.0 2013-01-02  1.0  3  train  foo\n",
       "2  1.0 2013-01-02  1.0  3   test  foo\n",
       "3  1.0 2013-01-02  1.0  3  train  foo>"
      ]
     },
     "execution_count": 25,
     "metadata": {},
     "output_type": "execute_result"
    }
   ],
   "source": [
    "df2.append"
   ]
  },
  {
   "cell_type": "markdown",
   "id": "dea1ff29",
   "metadata": {},
   "source": [
    "## Viewing data"
   ]
  },
  {
   "cell_type": "code",
   "execution_count": 29,
   "id": "5d118871",
   "metadata": {},
   "outputs": [
    {
     "data": {
      "text/html": [
       "<div>\n",
       "<style scoped>\n",
       "    .dataframe tbody tr th:only-of-type {\n",
       "        vertical-align: middle;\n",
       "    }\n",
       "\n",
       "    .dataframe tbody tr th {\n",
       "        vertical-align: top;\n",
       "    }\n",
       "\n",
       "    .dataframe thead th {\n",
       "        text-align: right;\n",
       "    }\n",
       "</style>\n",
       "<table border=\"1\" class=\"dataframe\">\n",
       "  <thead>\n",
       "    <tr style=\"text-align: right;\">\n",
       "      <th></th>\n",
       "      <th>A</th>\n",
       "      <th>B</th>\n",
       "      <th>C</th>\n",
       "      <th>D</th>\n",
       "    </tr>\n",
       "  </thead>\n",
       "  <tbody>\n",
       "    <tr>\n",
       "      <th>2013-01-01</th>\n",
       "      <td>0.112048</td>\n",
       "      <td>-0.717677</td>\n",
       "      <td>0.400011</td>\n",
       "      <td>1.403277</td>\n",
       "    </tr>\n",
       "    <tr>\n",
       "      <th>2013-01-02</th>\n",
       "      <td>0.205949</td>\n",
       "      <td>-0.018712</td>\n",
       "      <td>-0.482670</td>\n",
       "      <td>-0.874047</td>\n",
       "    </tr>\n",
       "    <tr>\n",
       "      <th>2013-01-03</th>\n",
       "      <td>-1.048417</td>\n",
       "      <td>-0.009412</td>\n",
       "      <td>-1.370919</td>\n",
       "      <td>0.633565</td>\n",
       "    </tr>\n",
       "    <tr>\n",
       "      <th>2013-01-04</th>\n",
       "      <td>0.590682</td>\n",
       "      <td>0.565938</td>\n",
       "      <td>-0.928633</td>\n",
       "      <td>-0.115034</td>\n",
       "    </tr>\n",
       "    <tr>\n",
       "      <th>2013-01-05</th>\n",
       "      <td>-0.817917</td>\n",
       "      <td>-0.748383</td>\n",
       "      <td>-0.127359</td>\n",
       "      <td>-0.077659</td>\n",
       "    </tr>\n",
       "  </tbody>\n",
       "</table>\n",
       "</div>"
      ],
      "text/plain": [
       "                   A         B         C         D\n",
       "2013-01-01  0.112048 -0.717677  0.400011  1.403277\n",
       "2013-01-02  0.205949 -0.018712 -0.482670 -0.874047\n",
       "2013-01-03 -1.048417 -0.009412 -1.370919  0.633565\n",
       "2013-01-04  0.590682  0.565938 -0.928633 -0.115034\n",
       "2013-01-05 -0.817917 -0.748383 -0.127359 -0.077659"
      ]
     },
     "metadata": {},
     "output_type": "display_data"
    },
    {
     "data": {
      "text/html": [
       "<div>\n",
       "<style scoped>\n",
       "    .dataframe tbody tr th:only-of-type {\n",
       "        vertical-align: middle;\n",
       "    }\n",
       "\n",
       "    .dataframe tbody tr th {\n",
       "        vertical-align: top;\n",
       "    }\n",
       "\n",
       "    .dataframe thead th {\n",
       "        text-align: right;\n",
       "    }\n",
       "</style>\n",
       "<table border=\"1\" class=\"dataframe\">\n",
       "  <thead>\n",
       "    <tr style=\"text-align: right;\">\n",
       "      <th></th>\n",
       "      <th>A</th>\n",
       "      <th>B</th>\n",
       "      <th>C</th>\n",
       "      <th>D</th>\n",
       "    </tr>\n",
       "  </thead>\n",
       "  <tbody>\n",
       "    <tr>\n",
       "      <th>2013-01-04</th>\n",
       "      <td>0.590682</td>\n",
       "      <td>0.565938</td>\n",
       "      <td>-0.928633</td>\n",
       "      <td>-0.115034</td>\n",
       "    </tr>\n",
       "    <tr>\n",
       "      <th>2013-01-05</th>\n",
       "      <td>-0.817917</td>\n",
       "      <td>-0.748383</td>\n",
       "      <td>-0.127359</td>\n",
       "      <td>-0.077659</td>\n",
       "    </tr>\n",
       "    <tr>\n",
       "      <th>2013-01-06</th>\n",
       "      <td>0.388164</td>\n",
       "      <td>-0.498948</td>\n",
       "      <td>-0.250663</td>\n",
       "      <td>1.042686</td>\n",
       "    </tr>\n",
       "  </tbody>\n",
       "</table>\n",
       "</div>"
      ],
      "text/plain": [
       "                   A         B         C         D\n",
       "2013-01-04  0.590682  0.565938 -0.928633 -0.115034\n",
       "2013-01-05 -0.817917 -0.748383 -0.127359 -0.077659\n",
       "2013-01-06  0.388164 -0.498948 -0.250663  1.042686"
      ]
     },
     "metadata": {},
     "output_type": "display_data"
    }
   ],
   "source": [
    "# to view the top rows of the frame\n",
    "display(df.head())\n",
    "display(df.tail(3))"
   ]
  },
  {
   "cell_type": "code",
   "execution_count": 36,
   "id": "b3390696",
   "metadata": {},
   "outputs": [
    {
     "name": "stdout",
     "output_type": "stream",
     "text": [
      "DatetimeIndex(['2013-01-01', '2013-01-02', '2013-01-03', '2013-01-04',\n",
      "               '2013-01-05', '2013-01-06'],\n",
      "              dtype='datetime64[ns]', freq='D')\n",
      "Index(['A', 'B', 'C', 'D'], dtype='object')\n"
     ]
    }
   ],
   "source": [
    "# Display index and columns\n",
    "print(df.index)\n",
    "print(df.columns)"
   ]
  },
  {
   "cell_type": "code",
   "execution_count": 37,
   "id": "6ce25fc8",
   "metadata": {},
   "outputs": [
    {
     "data": {
      "text/plain": [
       "array([[ 0.11204792, -0.71767744,  0.40001122,  1.40327688],\n",
       "       [ 0.20594853, -0.01871209, -0.48266983, -0.87404713],\n",
       "       [-1.04841734, -0.00941238, -1.37091945,  0.63356541],\n",
       "       [ 0.59068201,  0.56593828, -0.92863309, -0.115034  ],\n",
       "       [-0.8179172 , -0.74838277, -0.1273587 , -0.07765912],\n",
       "       [ 0.38816392, -0.49894767, -0.2506631 ,  1.04268599]])"
      ]
     },
     "execution_count": 37,
     "metadata": {},
     "output_type": "execute_result"
    }
   ],
   "source": [
    "# Numpy representation\n",
    "df.to_numpy()"
   ]
  },
  {
   "cell_type": "code",
   "execution_count": 38,
   "id": "6ffb9e3c",
   "metadata": {},
   "outputs": [
    {
     "data": {
      "text/plain": [
       "array([[1.0, Timestamp('2013-01-02 00:00:00'), 1.0, 3, 'test', 'foo'],\n",
       "       [1.0, Timestamp('2013-01-02 00:00:00'), 1.0, 3, 'train', 'foo'],\n",
       "       [1.0, Timestamp('2013-01-02 00:00:00'), 1.0, 3, 'test', 'foo'],\n",
       "       [1.0, Timestamp('2013-01-02 00:00:00'), 1.0, 3, 'train', 'foo']],\n",
       "      dtype=object)"
      ]
     },
     "execution_count": 38,
     "metadata": {},
     "output_type": "execute_result"
    }
   ],
   "source": [
    "df2.to_numpy()"
   ]
  },
  {
   "cell_type": "code",
   "execution_count": 39,
   "id": "2c1234b1",
   "metadata": {},
   "outputs": [
    {
     "data": {
      "text/html": [
       "<div>\n",
       "<style scoped>\n",
       "    .dataframe tbody tr th:only-of-type {\n",
       "        vertical-align: middle;\n",
       "    }\n",
       "\n",
       "    .dataframe tbody tr th {\n",
       "        vertical-align: top;\n",
       "    }\n",
       "\n",
       "    .dataframe thead th {\n",
       "        text-align: right;\n",
       "    }\n",
       "</style>\n",
       "<table border=\"1\" class=\"dataframe\">\n",
       "  <thead>\n",
       "    <tr style=\"text-align: right;\">\n",
       "      <th></th>\n",
       "      <th>A</th>\n",
       "      <th>B</th>\n",
       "      <th>C</th>\n",
       "      <th>D</th>\n",
       "    </tr>\n",
       "  </thead>\n",
       "  <tbody>\n",
       "    <tr>\n",
       "      <th>count</th>\n",
       "      <td>6.000000</td>\n",
       "      <td>6.000000</td>\n",
       "      <td>6.000000</td>\n",
       "      <td>6.000000</td>\n",
       "    </tr>\n",
       "    <tr>\n",
       "      <th>mean</th>\n",
       "      <td>-0.094915</td>\n",
       "      <td>-0.237866</td>\n",
       "      <td>-0.460039</td>\n",
       "      <td>0.335465</td>\n",
       "    </tr>\n",
       "    <tr>\n",
       "      <th>std</th>\n",
       "      <td>0.673596</td>\n",
       "      <td>0.510946</td>\n",
       "      <td>0.623538</td>\n",
       "      <td>0.844487</td>\n",
       "    </tr>\n",
       "    <tr>\n",
       "      <th>min</th>\n",
       "      <td>-1.048417</td>\n",
       "      <td>-0.748383</td>\n",
       "      <td>-1.370919</td>\n",
       "      <td>-0.874047</td>\n",
       "    </tr>\n",
       "    <tr>\n",
       "      <th>25%</th>\n",
       "      <td>-0.585426</td>\n",
       "      <td>-0.662995</td>\n",
       "      <td>-0.817142</td>\n",
       "      <td>-0.105690</td>\n",
       "    </tr>\n",
       "    <tr>\n",
       "      <th>50%</th>\n",
       "      <td>0.158998</td>\n",
       "      <td>-0.258830</td>\n",
       "      <td>-0.366666</td>\n",
       "      <td>0.277953</td>\n",
       "    </tr>\n",
       "    <tr>\n",
       "      <th>75%</th>\n",
       "      <td>0.342610</td>\n",
       "      <td>-0.011737</td>\n",
       "      <td>-0.158185</td>\n",
       "      <td>0.940406</td>\n",
       "    </tr>\n",
       "    <tr>\n",
       "      <th>max</th>\n",
       "      <td>0.590682</td>\n",
       "      <td>0.565938</td>\n",
       "      <td>0.400011</td>\n",
       "      <td>1.403277</td>\n",
       "    </tr>\n",
       "  </tbody>\n",
       "</table>\n",
       "</div>"
      ],
      "text/plain": [
       "              A         B         C         D\n",
       "count  6.000000  6.000000  6.000000  6.000000\n",
       "mean  -0.094915 -0.237866 -0.460039  0.335465\n",
       "std    0.673596  0.510946  0.623538  0.844487\n",
       "min   -1.048417 -0.748383 -1.370919 -0.874047\n",
       "25%   -0.585426 -0.662995 -0.817142 -0.105690\n",
       "50%    0.158998 -0.258830 -0.366666  0.277953\n",
       "75%    0.342610 -0.011737 -0.158185  0.940406\n",
       "max    0.590682  0.565938  0.400011  1.403277"
      ]
     },
     "execution_count": 39,
     "metadata": {},
     "output_type": "execute_result"
    }
   ],
   "source": [
    "# show a quick statistic summary of your data\n",
    "df.describe()"
   ]
  },
  {
   "cell_type": "code",
   "execution_count": 41,
   "id": "19c8c3cc",
   "metadata": {},
   "outputs": [
    {
     "data": {
      "text/html": [
       "<div>\n",
       "<style scoped>\n",
       "    .dataframe tbody tr th:only-of-type {\n",
       "        vertical-align: middle;\n",
       "    }\n",
       "\n",
       "    .dataframe tbody tr th {\n",
       "        vertical-align: top;\n",
       "    }\n",
       "\n",
       "    .dataframe thead th {\n",
       "        text-align: right;\n",
       "    }\n",
       "</style>\n",
       "<table border=\"1\" class=\"dataframe\">\n",
       "  <thead>\n",
       "    <tr style=\"text-align: right;\">\n",
       "      <th></th>\n",
       "      <th>2013-01-01</th>\n",
       "      <th>2013-01-02</th>\n",
       "      <th>2013-01-03</th>\n",
       "      <th>2013-01-04</th>\n",
       "      <th>2013-01-05</th>\n",
       "      <th>2013-01-06</th>\n",
       "    </tr>\n",
       "  </thead>\n",
       "  <tbody>\n",
       "    <tr>\n",
       "      <th>A</th>\n",
       "      <td>0.112048</td>\n",
       "      <td>0.205949</td>\n",
       "      <td>-1.048417</td>\n",
       "      <td>0.590682</td>\n",
       "      <td>-0.817917</td>\n",
       "      <td>0.388164</td>\n",
       "    </tr>\n",
       "    <tr>\n",
       "      <th>B</th>\n",
       "      <td>-0.717677</td>\n",
       "      <td>-0.018712</td>\n",
       "      <td>-0.009412</td>\n",
       "      <td>0.565938</td>\n",
       "      <td>-0.748383</td>\n",
       "      <td>-0.498948</td>\n",
       "    </tr>\n",
       "    <tr>\n",
       "      <th>C</th>\n",
       "      <td>0.400011</td>\n",
       "      <td>-0.482670</td>\n",
       "      <td>-1.370919</td>\n",
       "      <td>-0.928633</td>\n",
       "      <td>-0.127359</td>\n",
       "      <td>-0.250663</td>\n",
       "    </tr>\n",
       "    <tr>\n",
       "      <th>D</th>\n",
       "      <td>1.403277</td>\n",
       "      <td>-0.874047</td>\n",
       "      <td>0.633565</td>\n",
       "      <td>-0.115034</td>\n",
       "      <td>-0.077659</td>\n",
       "      <td>1.042686</td>\n",
       "    </tr>\n",
       "  </tbody>\n",
       "</table>\n",
       "</div>"
      ],
      "text/plain": [
       "   2013-01-01  2013-01-02  2013-01-03  2013-01-04  2013-01-05  2013-01-06\n",
       "A    0.112048    0.205949   -1.048417    0.590682   -0.817917    0.388164\n",
       "B   -0.717677   -0.018712   -0.009412    0.565938   -0.748383   -0.498948\n",
       "C    0.400011   -0.482670   -1.370919   -0.928633   -0.127359   -0.250663\n",
       "D    1.403277   -0.874047    0.633565   -0.115034   -0.077659    1.042686"
      ]
     },
     "execution_count": 41,
     "metadata": {},
     "output_type": "execute_result"
    }
   ],
   "source": [
    "# Transposing your data\n",
    "df.T\n",
    "# df.describe().T"
   ]
  },
  {
   "cell_type": "code",
   "execution_count": 43,
   "id": "0e2f4a13",
   "metadata": {},
   "outputs": [
    {
     "data": {
      "text/html": [
       "<div>\n",
       "<style scoped>\n",
       "    .dataframe tbody tr th:only-of-type {\n",
       "        vertical-align: middle;\n",
       "    }\n",
       "\n",
       "    .dataframe tbody tr th {\n",
       "        vertical-align: top;\n",
       "    }\n",
       "\n",
       "    .dataframe thead th {\n",
       "        text-align: right;\n",
       "    }\n",
       "</style>\n",
       "<table border=\"1\" class=\"dataframe\">\n",
       "  <thead>\n",
       "    <tr style=\"text-align: right;\">\n",
       "      <th></th>\n",
       "      <th>A</th>\n",
       "      <th>B</th>\n",
       "      <th>C</th>\n",
       "      <th>D</th>\n",
       "    </tr>\n",
       "  </thead>\n",
       "  <tbody>\n",
       "    <tr>\n",
       "      <th>2013-01-05</th>\n",
       "      <td>-0.817917</td>\n",
       "      <td>-0.748383</td>\n",
       "      <td>-0.127359</td>\n",
       "      <td>-0.077659</td>\n",
       "    </tr>\n",
       "    <tr>\n",
       "      <th>2013-01-01</th>\n",
       "      <td>0.112048</td>\n",
       "      <td>-0.717677</td>\n",
       "      <td>0.400011</td>\n",
       "      <td>1.403277</td>\n",
       "    </tr>\n",
       "    <tr>\n",
       "      <th>2013-01-06</th>\n",
       "      <td>0.388164</td>\n",
       "      <td>-0.498948</td>\n",
       "      <td>-0.250663</td>\n",
       "      <td>1.042686</td>\n",
       "    </tr>\n",
       "    <tr>\n",
       "      <th>2013-01-02</th>\n",
       "      <td>0.205949</td>\n",
       "      <td>-0.018712</td>\n",
       "      <td>-0.482670</td>\n",
       "      <td>-0.874047</td>\n",
       "    </tr>\n",
       "    <tr>\n",
       "      <th>2013-01-03</th>\n",
       "      <td>-1.048417</td>\n",
       "      <td>-0.009412</td>\n",
       "      <td>-1.370919</td>\n",
       "      <td>0.633565</td>\n",
       "    </tr>\n",
       "    <tr>\n",
       "      <th>2013-01-04</th>\n",
       "      <td>0.590682</td>\n",
       "      <td>0.565938</td>\n",
       "      <td>-0.928633</td>\n",
       "      <td>-0.115034</td>\n",
       "    </tr>\n",
       "  </tbody>\n",
       "</table>\n",
       "</div>"
      ],
      "text/plain": [
       "                   A         B         C         D\n",
       "2013-01-05 -0.817917 -0.748383 -0.127359 -0.077659\n",
       "2013-01-01  0.112048 -0.717677  0.400011  1.403277\n",
       "2013-01-06  0.388164 -0.498948 -0.250663  1.042686\n",
       "2013-01-02  0.205949 -0.018712 -0.482670 -0.874047\n",
       "2013-01-03 -1.048417 -0.009412 -1.370919  0.633565\n",
       "2013-01-04  0.590682  0.565938 -0.928633 -0.115034"
      ]
     },
     "execution_count": 43,
     "metadata": {},
     "output_type": "execute_result"
    }
   ],
   "source": [
    "# Sort data\n",
    "df.sort_index(axis=1,ascending=False)   # by index\n",
    "\n",
    "df.sort_values(by = 'B')                # by values"
   ]
  },
  {
   "cell_type": "markdown",
   "id": "83402aa4",
   "metadata": {},
   "source": [
    " ### Indexing and selecting data"
   ]
  },
  {
   "cell_type": "code",
   "execution_count": 56,
   "id": "aaf1882c",
   "metadata": {},
   "outputs": [
    {
     "data": {
      "text/html": [
       "<div>\n",
       "<style scoped>\n",
       "    .dataframe tbody tr th:only-of-type {\n",
       "        vertical-align: middle;\n",
       "    }\n",
       "\n",
       "    .dataframe tbody tr th {\n",
       "        vertical-align: top;\n",
       "    }\n",
       "\n",
       "    .dataframe thead th {\n",
       "        text-align: right;\n",
       "    }\n",
       "</style>\n",
       "<table border=\"1\" class=\"dataframe\">\n",
       "  <thead>\n",
       "    <tr style=\"text-align: right;\">\n",
       "      <th></th>\n",
       "      <th>A</th>\n",
       "      <th>B</th>\n",
       "      <th>C</th>\n",
       "      <th>D</th>\n",
       "    </tr>\n",
       "  </thead>\n",
       "  <tbody>\n",
       "    <tr>\n",
       "      <th>2000-01-01</th>\n",
       "      <td>-1.456141</td>\n",
       "      <td>-0.833612</td>\n",
       "      <td>0.269134</td>\n",
       "      <td>0.485115</td>\n",
       "    </tr>\n",
       "    <tr>\n",
       "      <th>2000-01-02</th>\n",
       "      <td>-0.175073</td>\n",
       "      <td>1.373687</td>\n",
       "      <td>0.563611</td>\n",
       "      <td>0.555194</td>\n",
       "    </tr>\n",
       "    <tr>\n",
       "      <th>2000-01-03</th>\n",
       "      <td>-0.202022</td>\n",
       "      <td>1.453868</td>\n",
       "      <td>-0.211024</td>\n",
       "      <td>1.033085</td>\n",
       "    </tr>\n",
       "    <tr>\n",
       "      <th>2000-01-04</th>\n",
       "      <td>1.033954</td>\n",
       "      <td>-1.226917</td>\n",
       "      <td>-0.759768</td>\n",
       "      <td>0.832628</td>\n",
       "    </tr>\n",
       "    <tr>\n",
       "      <th>2000-01-05</th>\n",
       "      <td>-0.502207</td>\n",
       "      <td>0.912895</td>\n",
       "      <td>0.774521</td>\n",
       "      <td>-0.461198</td>\n",
       "    </tr>\n",
       "    <tr>\n",
       "      <th>2000-01-06</th>\n",
       "      <td>-0.988947</td>\n",
       "      <td>0.505840</td>\n",
       "      <td>1.194788</td>\n",
       "      <td>-1.095589</td>\n",
       "    </tr>\n",
       "    <tr>\n",
       "      <th>2000-01-07</th>\n",
       "      <td>-0.952329</td>\n",
       "      <td>-0.161231</td>\n",
       "      <td>-0.975577</td>\n",
       "      <td>0.047775</td>\n",
       "    </tr>\n",
       "    <tr>\n",
       "      <th>2000-01-08</th>\n",
       "      <td>-0.654238</td>\n",
       "      <td>-0.295514</td>\n",
       "      <td>-0.229922</td>\n",
       "      <td>-1.127485</td>\n",
       "    </tr>\n",
       "  </tbody>\n",
       "</table>\n",
       "</div>"
      ],
      "text/plain": [
       "                   A         B         C         D\n",
       "2000-01-01 -1.456141 -0.833612  0.269134  0.485115\n",
       "2000-01-02 -0.175073  1.373687  0.563611  0.555194\n",
       "2000-01-03 -0.202022  1.453868 -0.211024  1.033085\n",
       "2000-01-04  1.033954 -1.226917 -0.759768  0.832628\n",
       "2000-01-05 -0.502207  0.912895  0.774521 -0.461198\n",
       "2000-01-06 -0.988947  0.505840  1.194788 -1.095589\n",
       "2000-01-07 -0.952329 -0.161231 -0.975577  0.047775\n",
       "2000-01-08 -0.654238 -0.295514 -0.229922 -1.127485"
      ]
     },
     "execution_count": 56,
     "metadata": {},
     "output_type": "execute_result"
    }
   ],
   "source": [
    "dates = pd.date_range('1/1/2000', periods=8)\n",
    "df = pd.DataFrame(np.random.randn(8, 4),\n",
    "                      index=dates, columns=['A', 'B', 'C', 'D'])\n",
    "df"
   ]
  },
  {
   "cell_type": "code",
   "execution_count": 99,
   "id": "2519b819",
   "metadata": {},
   "outputs": [
    {
     "name": "stdout",
     "output_type": "stream",
     "text": [
      "DatetimeIndex(['2013-01-01', '2013-01-02', '2013-01-03', '2013-01-04',\n",
      "               '2013-01-05', '2013-01-06'],\n",
      "              dtype='datetime64[ns]', freq='D')\n"
     ]
    },
    {
     "data": {
      "text/html": [
       "<div>\n",
       "<style scoped>\n",
       "    .dataframe tbody tr th:only-of-type {\n",
       "        vertical-align: middle;\n",
       "    }\n",
       "\n",
       "    .dataframe tbody tr th {\n",
       "        vertical-align: top;\n",
       "    }\n",
       "\n",
       "    .dataframe thead th {\n",
       "        text-align: right;\n",
       "    }\n",
       "</style>\n",
       "<table border=\"1\" class=\"dataframe\">\n",
       "  <thead>\n",
       "    <tr style=\"text-align: right;\">\n",
       "      <th></th>\n",
       "      <th>A</th>\n",
       "      <th>B</th>\n",
       "      <th>C</th>\n",
       "      <th>D</th>\n",
       "    </tr>\n",
       "  </thead>\n",
       "  <tbody>\n",
       "    <tr>\n",
       "      <th>2013-01-01</th>\n",
       "      <td>0.472867</td>\n",
       "      <td>-0.880326</td>\n",
       "      <td>1.098360</td>\n",
       "      <td>0.042201</td>\n",
       "    </tr>\n",
       "    <tr>\n",
       "      <th>2013-01-02</th>\n",
       "      <td>-0.471664</td>\n",
       "      <td>-1.263803</td>\n",
       "      <td>-0.351583</td>\n",
       "      <td>0.382507</td>\n",
       "    </tr>\n",
       "    <tr>\n",
       "      <th>2013-01-03</th>\n",
       "      <td>0.727520</td>\n",
       "      <td>2.315726</td>\n",
       "      <td>0.790702</td>\n",
       "      <td>-0.800783</td>\n",
       "    </tr>\n",
       "    <tr>\n",
       "      <th>2013-01-04</th>\n",
       "      <td>-0.609783</td>\n",
       "      <td>0.104524</td>\n",
       "      <td>0.195492</td>\n",
       "      <td>1.068404</td>\n",
       "    </tr>\n",
       "    <tr>\n",
       "      <th>2013-01-05</th>\n",
       "      <td>0.563124</td>\n",
       "      <td>-0.836620</td>\n",
       "      <td>-0.289629</td>\n",
       "      <td>-0.312500</td>\n",
       "    </tr>\n",
       "    <tr>\n",
       "      <th>2013-01-06</th>\n",
       "      <td>0.742729</td>\n",
       "      <td>-0.605232</td>\n",
       "      <td>-2.750700</td>\n",
       "      <td>0.075744</td>\n",
       "    </tr>\n",
       "  </tbody>\n",
       "</table>\n",
       "</div>"
      ],
      "text/plain": [
       "                   A         B         C         D\n",
       "2013-01-01  0.472867 -0.880326  1.098360  0.042201\n",
       "2013-01-02 -0.471664 -1.263803 -0.351583  0.382507\n",
       "2013-01-03  0.727520  2.315726  0.790702 -0.800783\n",
       "2013-01-04 -0.609783  0.104524  0.195492  1.068404\n",
       "2013-01-05  0.563124 -0.836620 -0.289629 -0.312500\n",
       "2013-01-06  0.742729 -0.605232 -2.750700  0.075744"
      ]
     },
     "execution_count": 99,
     "metadata": {},
     "output_type": "execute_result"
    }
   ],
   "source": [
    "dates = pd.date_range(\"20130101\", periods=6)\n",
    "print(dates)\n",
    "df = pd.DataFrame(np.random.randn(6, 4), index=dates, columns=list(\"ABCD\"))\n",
    "df"
   ]
  },
  {
   "cell_type": "code",
   "execution_count": 57,
   "id": "74b67aa7",
   "metadata": {},
   "outputs": [
    {
     "data": {
      "text/plain": [
       "-0.9889465258903591"
      ]
     },
     "execution_count": 57,
     "metadata": {},
     "output_type": "execute_result"
    }
   ],
   "source": [
    "s = df['A']\n",
    "s[dates[5]]"
   ]
  },
  {
   "cell_type": "code",
   "execution_count": 58,
   "id": "e3c24fdf",
   "metadata": {},
   "outputs": [
    {
     "data": {
      "text/plain": [
       "A    float64\n",
       "B    float64\n",
       "C    float64\n",
       "D    float64\n",
       "dtype: object"
      ]
     },
     "execution_count": 58,
     "metadata": {},
     "output_type": "execute_result"
    }
   ],
   "source": [
    "df.dtypes"
   ]
  },
  {
   "cell_type": "code",
   "execution_count": 64,
   "id": "ead7363c",
   "metadata": {},
   "outputs": [
    {
     "data": {
      "text/html": [
       "<div>\n",
       "<style scoped>\n",
       "    .dataframe tbody tr th:only-of-type {\n",
       "        vertical-align: middle;\n",
       "    }\n",
       "\n",
       "    .dataframe tbody tr th {\n",
       "        vertical-align: top;\n",
       "    }\n",
       "\n",
       "    .dataframe thead th {\n",
       "        text-align: right;\n",
       "    }\n",
       "</style>\n",
       "<table border=\"1\" class=\"dataframe\">\n",
       "  <thead>\n",
       "    <tr style=\"text-align: right;\">\n",
       "      <th></th>\n",
       "      <th>A</th>\n",
       "      <th>B</th>\n",
       "      <th>C</th>\n",
       "      <th>D</th>\n",
       "    </tr>\n",
       "  </thead>\n",
       "  <tbody>\n",
       "    <tr>\n",
       "      <th>2000-01-01</th>\n",
       "      <td>-1.456141</td>\n",
       "      <td>-0.833612</td>\n",
       "      <td>0.269134</td>\n",
       "      <td>0.485115</td>\n",
       "    </tr>\n",
       "    <tr>\n",
       "      <th>2000-01-02</th>\n",
       "      <td>-0.175073</td>\n",
       "      <td>1.373687</td>\n",
       "      <td>0.563611</td>\n",
       "      <td>0.555194</td>\n",
       "    </tr>\n",
       "    <tr>\n",
       "      <th>2000-01-03</th>\n",
       "      <td>-0.202022</td>\n",
       "      <td>1.453868</td>\n",
       "      <td>-0.211024</td>\n",
       "      <td>1.033085</td>\n",
       "    </tr>\n",
       "    <tr>\n",
       "      <th>2000-01-04</th>\n",
       "      <td>1.033954</td>\n",
       "      <td>-1.226917</td>\n",
       "      <td>-0.759768</td>\n",
       "      <td>0.832628</td>\n",
       "    </tr>\n",
       "    <tr>\n",
       "      <th>2000-01-05</th>\n",
       "      <td>-0.502207</td>\n",
       "      <td>0.912895</td>\n",
       "      <td>0.774521</td>\n",
       "      <td>-0.461198</td>\n",
       "    </tr>\n",
       "    <tr>\n",
       "      <th>2000-01-06</th>\n",
       "      <td>-0.988947</td>\n",
       "      <td>0.505840</td>\n",
       "      <td>1.194788</td>\n",
       "      <td>-1.095589</td>\n",
       "    </tr>\n",
       "    <tr>\n",
       "      <th>2000-01-07</th>\n",
       "      <td>-0.952329</td>\n",
       "      <td>-0.161231</td>\n",
       "      <td>-0.975577</td>\n",
       "      <td>0.047775</td>\n",
       "    </tr>\n",
       "    <tr>\n",
       "      <th>2000-01-08</th>\n",
       "      <td>-0.654238</td>\n",
       "      <td>-0.295514</td>\n",
       "      <td>-0.229922</td>\n",
       "      <td>-1.127485</td>\n",
       "    </tr>\n",
       "  </tbody>\n",
       "</table>\n",
       "</div>"
      ],
      "text/plain": [
       "                   A         B         C         D\n",
       "2000-01-01 -1.456141 -0.833612  0.269134  0.485115\n",
       "2000-01-02 -0.175073  1.373687  0.563611  0.555194\n",
       "2000-01-03 -0.202022  1.453868 -0.211024  1.033085\n",
       "2000-01-04  1.033954 -1.226917 -0.759768  0.832628\n",
       "2000-01-05 -0.502207  0.912895  0.774521 -0.461198\n",
       "2000-01-06 -0.988947  0.505840  1.194788 -1.095589\n",
       "2000-01-07 -0.952329 -0.161231 -0.975577  0.047775\n",
       "2000-01-08 -0.654238 -0.295514 -0.229922 -1.127485"
      ]
     },
     "execution_count": 64,
     "metadata": {},
     "output_type": "execute_result"
    }
   ],
   "source": [
    "# select columns in a list of order\n",
    "df\n",
    "df[['B', 'A']] = df[['A', 'B']]\n",
    "df"
   ]
  },
  {
   "cell_type": "code",
   "execution_count": 75,
   "id": "45e51714",
   "metadata": {},
   "outputs": [
    {
     "name": "stdout",
     "output_type": "stream",
     "text": [
      "(8, 4)\n"
     ]
    },
    {
     "data": {
      "text/html": [
       "<div>\n",
       "<style scoped>\n",
       "    .dataframe tbody tr th:only-of-type {\n",
       "        vertical-align: middle;\n",
       "    }\n",
       "\n",
       "    .dataframe tbody tr th {\n",
       "        vertical-align: top;\n",
       "    }\n",
       "\n",
       "    .dataframe thead th {\n",
       "        text-align: right;\n",
       "    }\n",
       "</style>\n",
       "<table border=\"1\" class=\"dataframe\">\n",
       "  <thead>\n",
       "    <tr style=\"text-align: right;\">\n",
       "      <th></th>\n",
       "      <th>A</th>\n",
       "      <th>B</th>\n",
       "    </tr>\n",
       "  </thead>\n",
       "  <tbody>\n",
       "    <tr>\n",
       "      <th>2000-01-01</th>\n",
       "      <td>-1.456141</td>\n",
       "      <td>-0.833612</td>\n",
       "    </tr>\n",
       "    <tr>\n",
       "      <th>2000-01-02</th>\n",
       "      <td>-0.175073</td>\n",
       "      <td>1.373687</td>\n",
       "    </tr>\n",
       "    <tr>\n",
       "      <th>2000-01-03</th>\n",
       "      <td>-0.202022</td>\n",
       "      <td>1.453868</td>\n",
       "    </tr>\n",
       "    <tr>\n",
       "      <th>2000-01-04</th>\n",
       "      <td>1.033954</td>\n",
       "      <td>-1.226917</td>\n",
       "    </tr>\n",
       "    <tr>\n",
       "      <th>2000-01-05</th>\n",
       "      <td>-0.502207</td>\n",
       "      <td>0.912895</td>\n",
       "    </tr>\n",
       "    <tr>\n",
       "      <th>2000-01-06</th>\n",
       "      <td>-0.988947</td>\n",
       "      <td>0.505840</td>\n",
       "    </tr>\n",
       "    <tr>\n",
       "      <th>2000-01-07</th>\n",
       "      <td>-0.952329</td>\n",
       "      <td>-0.161231</td>\n",
       "    </tr>\n",
       "    <tr>\n",
       "      <th>2000-01-08</th>\n",
       "      <td>-0.654238</td>\n",
       "      <td>-0.295514</td>\n",
       "    </tr>\n",
       "  </tbody>\n",
       "</table>\n",
       "</div>"
      ],
      "text/plain": [
       "                   A         B\n",
       "2000-01-01 -1.456141 -0.833612\n",
       "2000-01-02 -0.175073  1.373687\n",
       "2000-01-03 -0.202022  1.453868\n",
       "2000-01-04  1.033954 -1.226917\n",
       "2000-01-05 -0.502207  0.912895\n",
       "2000-01-06 -0.988947  0.505840\n",
       "2000-01-07 -0.952329 -0.161231\n",
       "2000-01-08 -0.654238 -0.295514"
      ]
     },
     "metadata": {},
     "output_type": "display_data"
    },
    {
     "data": {
      "text/html": [
       "<div>\n",
       "<style scoped>\n",
       "    .dataframe tbody tr th:only-of-type {\n",
       "        vertical-align: middle;\n",
       "    }\n",
       "\n",
       "    .dataframe tbody tr th {\n",
       "        vertical-align: top;\n",
       "    }\n",
       "\n",
       "    .dataframe thead th {\n",
       "        text-align: right;\n",
       "    }\n",
       "</style>\n",
       "<table border=\"1\" class=\"dataframe\">\n",
       "  <thead>\n",
       "    <tr style=\"text-align: right;\">\n",
       "      <th></th>\n",
       "      <th>A</th>\n",
       "      <th>B</th>\n",
       "    </tr>\n",
       "  </thead>\n",
       "  <tbody>\n",
       "    <tr>\n",
       "      <th>2000-01-01</th>\n",
       "      <td>-1.456141</td>\n",
       "      <td>-0.833612</td>\n",
       "    </tr>\n",
       "    <tr>\n",
       "      <th>2000-01-02</th>\n",
       "      <td>-0.175073</td>\n",
       "      <td>1.373687</td>\n",
       "    </tr>\n",
       "    <tr>\n",
       "      <th>2000-01-03</th>\n",
       "      <td>-0.202022</td>\n",
       "      <td>1.453868</td>\n",
       "    </tr>\n",
       "    <tr>\n",
       "      <th>2000-01-04</th>\n",
       "      <td>1.033954</td>\n",
       "      <td>-1.226917</td>\n",
       "    </tr>\n",
       "    <tr>\n",
       "      <th>2000-01-05</th>\n",
       "      <td>-0.502207</td>\n",
       "      <td>0.912895</td>\n",
       "    </tr>\n",
       "    <tr>\n",
       "      <th>2000-01-06</th>\n",
       "      <td>-0.988947</td>\n",
       "      <td>0.505840</td>\n",
       "    </tr>\n",
       "    <tr>\n",
       "      <th>2000-01-07</th>\n",
       "      <td>-0.952329</td>\n",
       "      <td>-0.161231</td>\n",
       "    </tr>\n",
       "    <tr>\n",
       "      <th>2000-01-08</th>\n",
       "      <td>-0.654238</td>\n",
       "      <td>-0.295514</td>\n",
       "    </tr>\n",
       "  </tbody>\n",
       "</table>\n",
       "</div>"
      ],
      "text/plain": [
       "                   A         B\n",
       "2000-01-01 -1.456141 -0.833612\n",
       "2000-01-02 -0.175073  1.373687\n",
       "2000-01-03 -0.202022  1.453868\n",
       "2000-01-04  1.033954 -1.226917\n",
       "2000-01-05 -0.502207  0.912895\n",
       "2000-01-06 -0.988947  0.505840\n",
       "2000-01-07 -0.952329 -0.161231\n",
       "2000-01-08 -0.654238 -0.295514"
      ]
     },
     "metadata": {},
     "output_type": "display_data"
    },
    {
     "data": {
      "text/html": [
       "<div>\n",
       "<style scoped>\n",
       "    .dataframe tbody tr th:only-of-type {\n",
       "        vertical-align: middle;\n",
       "    }\n",
       "\n",
       "    .dataframe tbody tr th {\n",
       "        vertical-align: top;\n",
       "    }\n",
       "\n",
       "    .dataframe thead th {\n",
       "        text-align: right;\n",
       "    }\n",
       "</style>\n",
       "<table border=\"1\" class=\"dataframe\">\n",
       "  <thead>\n",
       "    <tr style=\"text-align: right;\">\n",
       "      <th></th>\n",
       "      <th>A</th>\n",
       "      <th>B</th>\n",
       "      <th>C</th>\n",
       "      <th>D</th>\n",
       "    </tr>\n",
       "  </thead>\n",
       "  <tbody>\n",
       "    <tr>\n",
       "      <th>2000-01-01</th>\n",
       "      <td>-1.456141</td>\n",
       "      <td>-0.833612</td>\n",
       "      <td>0.269134</td>\n",
       "      <td>0.485115</td>\n",
       "    </tr>\n",
       "    <tr>\n",
       "      <th>2000-01-02</th>\n",
       "      <td>-0.175073</td>\n",
       "      <td>1.373687</td>\n",
       "      <td>0.563611</td>\n",
       "      <td>0.555194</td>\n",
       "    </tr>\n",
       "  </tbody>\n",
       "</table>\n",
       "</div>"
      ],
      "text/plain": [
       "                   A         B         C         D\n",
       "2000-01-01 -1.456141 -0.833612  0.269134  0.485115\n",
       "2000-01-02 -0.175073  1.373687  0.563611  0.555194"
      ]
     },
     "metadata": {},
     "output_type": "display_data"
    }
   ],
   "source": [
    "# subset of the columns\n",
    "print(df.shape)\n",
    "df[['B', 'A']] = df[['A', 'B']]\n",
    "display(df[['A','B']])\n",
    "\n",
    "df.loc[:, ['B', 'A']] = df[['A', 'B']]\n",
    "display(df[['A', 'B']])\n",
    "display(df.head(2))\n",
    "\n",
    "df.loc[:, ['B', 'A']] = df[['A', 'B']].to_numpy()\n",
    "df[['A', 'B']]"
   ]
  },
  {
   "cell_type": "code",
   "execution_count": 82,
   "id": "488587fa",
   "metadata": {
    "scrolled": true
   },
   "outputs": [
    {
     "data": {
      "text/html": [
       "<div>\n",
       "<style scoped>\n",
       "    .dataframe tbody tr th:only-of-type {\n",
       "        vertical-align: middle;\n",
       "    }\n",
       "\n",
       "    .dataframe tbody tr th {\n",
       "        vertical-align: top;\n",
       "    }\n",
       "\n",
       "    .dataframe thead th {\n",
       "        text-align: right;\n",
       "    }\n",
       "</style>\n",
       "<table border=\"1\" class=\"dataframe\">\n",
       "  <thead>\n",
       "    <tr style=\"text-align: right;\">\n",
       "      <th></th>\n",
       "      <th>B</th>\n",
       "      <th>A</th>\n",
       "    </tr>\n",
       "  </thead>\n",
       "  <tbody>\n",
       "    <tr>\n",
       "      <th>2000-01-01</th>\n",
       "      <td>-0.833612</td>\n",
       "      <td>-1.456141</td>\n",
       "    </tr>\n",
       "    <tr>\n",
       "      <th>2000-01-02</th>\n",
       "      <td>1.373687</td>\n",
       "      <td>-0.175073</td>\n",
       "    </tr>\n",
       "    <tr>\n",
       "      <th>2000-01-03</th>\n",
       "      <td>1.453868</td>\n",
       "      <td>-0.202022</td>\n",
       "    </tr>\n",
       "    <tr>\n",
       "      <th>2000-01-04</th>\n",
       "      <td>-1.226917</td>\n",
       "      <td>1.033954</td>\n",
       "    </tr>\n",
       "    <tr>\n",
       "      <th>2000-01-05</th>\n",
       "      <td>0.912895</td>\n",
       "      <td>-0.502207</td>\n",
       "    </tr>\n",
       "    <tr>\n",
       "      <th>2000-01-06</th>\n",
       "      <td>0.505840</td>\n",
       "      <td>-0.988947</td>\n",
       "    </tr>\n",
       "    <tr>\n",
       "      <th>2000-01-07</th>\n",
       "      <td>-0.161231</td>\n",
       "      <td>-0.952329</td>\n",
       "    </tr>\n",
       "    <tr>\n",
       "      <th>2000-01-08</th>\n",
       "      <td>-0.295514</td>\n",
       "      <td>-0.654238</td>\n",
       "    </tr>\n",
       "  </tbody>\n",
       "</table>\n",
       "</div>"
      ],
      "text/plain": [
       "                   B         A\n",
       "2000-01-01 -0.833612 -1.456141\n",
       "2000-01-02  1.373687 -0.175073\n",
       "2000-01-03  1.453868 -0.202022\n",
       "2000-01-04 -1.226917  1.033954\n",
       "2000-01-05  0.912895 -0.502207\n",
       "2000-01-06  0.505840 -0.988947\n",
       "2000-01-07 -0.161231 -0.952329\n",
       "2000-01-08 -0.295514 -0.654238"
      ]
     },
     "execution_count": 82,
     "metadata": {},
     "output_type": "execute_result"
    }
   ],
   "source": [
    "# select columns or rows\n",
    "df['A']                 # yields a series\n",
    "df[0:3]                 #slices the rows\n",
    "df[\"20000102\":\"20000104\"]\n",
    "df.loc[:, ['B', 'A']] "
   ]
  },
  {
   "cell_type": "code",
   "execution_count": 86,
   "id": "fc0f26e3",
   "metadata": {},
   "outputs": [
    {
     "data": {
      "text/plain": [
       "A   -0.175073\n",
       "B    1.373687\n",
       "Name: 2000-01-02 00:00:00, dtype: float64"
      ]
     },
     "execution_count": 86,
     "metadata": {},
     "output_type": "execute_result"
    }
   ],
   "source": [
    "# Selection by label\n",
    "df.loc[dates[0]]\n",
    "df.loc[:,'A']\n",
    "df.loc[:, [\"A\", \"B\"]]\n",
    "df.loc[\"20000102\":\"20000104\", [\"A\", \"B\"]]\n",
    "df.loc[\"20000102\", [\"A\", \"B\"]]\n",
    "df.loc[dates[0], \"A\"]             # getting a scaler\n",
    "df.at[dates[0], \"A\"]"
   ]
  },
  {
   "cell_type": "code",
   "execution_count": 95,
   "id": "5f2206b8",
   "metadata": {},
   "outputs": [
    {
     "data": {
      "text/plain": [
       "1.3736872462132863"
      ]
     },
     "execution_count": 95,
     "metadata": {},
     "output_type": "execute_result"
    }
   ],
   "source": [
    "# Selection by position\n",
    "df.iloc[2]\n",
    "df.iloc[3:5, 0:2]\n",
    "df.iloc[[1, 2, 4], [0, 2]]\n",
    "df.iloc[1:3, :]\n",
    "df.iloc[:, 1:3]\n",
    "df.iloc[1, 1]\n",
    "df.iat[1, 1]"
   ]
  },
  {
   "cell_type": "markdown",
   "id": "84090560",
   "metadata": {},
   "source": [
    "**Boolean Indexing**"
   ]
  },
  {
   "cell_type": "code",
   "execution_count": 96,
   "id": "9d21b5f2",
   "metadata": {},
   "outputs": [
    {
     "data": {
      "text/html": [
       "<div>\n",
       "<style scoped>\n",
       "    .dataframe tbody tr th:only-of-type {\n",
       "        vertical-align: middle;\n",
       "    }\n",
       "\n",
       "    .dataframe tbody tr th {\n",
       "        vertical-align: top;\n",
       "    }\n",
       "\n",
       "    .dataframe thead th {\n",
       "        text-align: right;\n",
       "    }\n",
       "</style>\n",
       "<table border=\"1\" class=\"dataframe\">\n",
       "  <thead>\n",
       "    <tr style=\"text-align: right;\">\n",
       "      <th></th>\n",
       "      <th>A</th>\n",
       "      <th>B</th>\n",
       "      <th>C</th>\n",
       "      <th>D</th>\n",
       "    </tr>\n",
       "  </thead>\n",
       "  <tbody>\n",
       "    <tr>\n",
       "      <th>2000-01-01</th>\n",
       "      <td>NaN</td>\n",
       "      <td>NaN</td>\n",
       "      <td>0.269134</td>\n",
       "      <td>0.485115</td>\n",
       "    </tr>\n",
       "    <tr>\n",
       "      <th>2000-01-02</th>\n",
       "      <td>NaN</td>\n",
       "      <td>1.373687</td>\n",
       "      <td>0.563611</td>\n",
       "      <td>0.555194</td>\n",
       "    </tr>\n",
       "    <tr>\n",
       "      <th>2000-01-03</th>\n",
       "      <td>NaN</td>\n",
       "      <td>1.453868</td>\n",
       "      <td>NaN</td>\n",
       "      <td>1.033085</td>\n",
       "    </tr>\n",
       "    <tr>\n",
       "      <th>2000-01-04</th>\n",
       "      <td>1.033954</td>\n",
       "      <td>NaN</td>\n",
       "      <td>NaN</td>\n",
       "      <td>0.832628</td>\n",
       "    </tr>\n",
       "    <tr>\n",
       "      <th>2000-01-05</th>\n",
       "      <td>NaN</td>\n",
       "      <td>0.912895</td>\n",
       "      <td>0.774521</td>\n",
       "      <td>NaN</td>\n",
       "    </tr>\n",
       "    <tr>\n",
       "      <th>2000-01-06</th>\n",
       "      <td>NaN</td>\n",
       "      <td>0.505840</td>\n",
       "      <td>1.194788</td>\n",
       "      <td>NaN</td>\n",
       "    </tr>\n",
       "    <tr>\n",
       "      <th>2000-01-07</th>\n",
       "      <td>NaN</td>\n",
       "      <td>NaN</td>\n",
       "      <td>NaN</td>\n",
       "      <td>0.047775</td>\n",
       "    </tr>\n",
       "    <tr>\n",
       "      <th>2000-01-08</th>\n",
       "      <td>NaN</td>\n",
       "      <td>NaN</td>\n",
       "      <td>NaN</td>\n",
       "      <td>NaN</td>\n",
       "    </tr>\n",
       "  </tbody>\n",
       "</table>\n",
       "</div>"
      ],
      "text/plain": [
       "                   A         B         C         D\n",
       "2000-01-01       NaN       NaN  0.269134  0.485115\n",
       "2000-01-02       NaN  1.373687  0.563611  0.555194\n",
       "2000-01-03       NaN  1.453868       NaN  1.033085\n",
       "2000-01-04  1.033954       NaN       NaN  0.832628\n",
       "2000-01-05       NaN  0.912895  0.774521       NaN\n",
       "2000-01-06       NaN  0.505840  1.194788       NaN\n",
       "2000-01-07       NaN       NaN       NaN  0.047775\n",
       "2000-01-08       NaN       NaN       NaN       NaN"
      ]
     },
     "execution_count": 96,
     "metadata": {},
     "output_type": "execute_result"
    }
   ],
   "source": [
    "df[df[\"A\"] > 0]       #Using a single column’s values to select data\n",
    "\n",
    "df[df > 0]            # Selecting values from a DataFrame where a boolean condition is met:"
   ]
  },
  {
   "cell_type": "code",
   "execution_count": 103,
   "id": "c854f531",
   "metadata": {},
   "outputs": [
    {
     "data": {
      "text/html": [
       "<div>\n",
       "<style scoped>\n",
       "    .dataframe tbody tr th:only-of-type {\n",
       "        vertical-align: middle;\n",
       "    }\n",
       "\n",
       "    .dataframe tbody tr th {\n",
       "        vertical-align: top;\n",
       "    }\n",
       "\n",
       "    .dataframe thead th {\n",
       "        text-align: right;\n",
       "    }\n",
       "</style>\n",
       "<table border=\"1\" class=\"dataframe\">\n",
       "  <thead>\n",
       "    <tr style=\"text-align: right;\">\n",
       "      <th></th>\n",
       "      <th>A</th>\n",
       "      <th>B</th>\n",
       "      <th>C</th>\n",
       "      <th>D</th>\n",
       "      <th>E</th>\n",
       "    </tr>\n",
       "  </thead>\n",
       "  <tbody>\n",
       "    <tr>\n",
       "      <th>2013-01-01</th>\n",
       "      <td>0.472867</td>\n",
       "      <td>-0.880326</td>\n",
       "      <td>1.098360</td>\n",
       "      <td>0.042201</td>\n",
       "      <td>one</td>\n",
       "    </tr>\n",
       "    <tr>\n",
       "      <th>2013-01-02</th>\n",
       "      <td>-0.471664</td>\n",
       "      <td>-1.263803</td>\n",
       "      <td>-0.351583</td>\n",
       "      <td>0.382507</td>\n",
       "      <td>one</td>\n",
       "    </tr>\n",
       "    <tr>\n",
       "      <th>2013-01-04</th>\n",
       "      <td>-0.609783</td>\n",
       "      <td>0.104524</td>\n",
       "      <td>0.195492</td>\n",
       "      <td>1.068404</td>\n",
       "      <td>three</td>\n",
       "    </tr>\n",
       "    <tr>\n",
       "      <th>2013-01-06</th>\n",
       "      <td>0.742729</td>\n",
       "      <td>-0.605232</td>\n",
       "      <td>-2.750700</td>\n",
       "      <td>0.075744</td>\n",
       "      <td>three</td>\n",
       "    </tr>\n",
       "  </tbody>\n",
       "</table>\n",
       "</div>"
      ],
      "text/plain": [
       "                   A         B         C         D      E\n",
       "2013-01-01  0.472867 -0.880326  1.098360  0.042201    one\n",
       "2013-01-02 -0.471664 -1.263803 -0.351583  0.382507    one\n",
       "2013-01-04 -0.609783  0.104524  0.195492  1.068404  three\n",
       "2013-01-06  0.742729 -0.605232 -2.750700  0.075744  three"
      ]
     },
     "execution_count": 103,
     "metadata": {},
     "output_type": "execute_result"
    }
   ],
   "source": [
    "df2 = df.copy()\n",
    "df2[\"E\"] = [\"one\", \"one\", \"two\", \"three\", \"four\", \"three\"]\n",
    "df2\n",
    "\n",
    "df2[df2[\"E\"].isin([\"one\",'three'])]"
   ]
  },
  {
   "cell_type": "markdown",
   "id": "c34f9e52",
   "metadata": {},
   "source": [
    "Setting"
   ]
  },
  {
   "cell_type": "code",
   "execution_count": 108,
   "id": "c51a45f5",
   "metadata": {},
   "outputs": [
    {
     "data": {
      "text/plain": [
       "2013-01-01    0.000000\n",
       "2013-01-02   -0.471664\n",
       "2013-01-03    0.727520\n",
       "2013-01-04   -0.609783\n",
       "2013-01-05    0.563124\n",
       "2013-01-06    0.742729\n",
       "Freq: D, Name: A, dtype: float64"
      ]
     },
     "execution_count": 108,
     "metadata": {},
     "output_type": "execute_result"
    }
   ],
   "source": [
    "s1 = pd.Series([1, 2, 3, 4, 5, 6], index=pd.date_range(\"20130102\", periods=6))\n",
    "s1\n",
    "# df['F']=s1\n",
    "# df\n",
    "df.at[dates[0], \"A\"] = 0     #setting values by label\n",
    "df.iat[0,1] =0\n",
    "df['A']"
   ]
  },
  {
   "cell_type": "code",
   "execution_count": 110,
   "id": "05526156",
   "metadata": {},
   "outputs": [],
   "source": [
    "# Setting by assigning with a NumPy array:\n",
    "df.loc[:, \"D\"] = np.array([5] * len(df))"
   ]
  },
  {
   "cell_type": "code",
   "execution_count": 111,
   "id": "e34a3c3e",
   "metadata": {},
   "outputs": [
    {
     "data": {
      "text/plain": [
       "2013-01-01    5\n",
       "2013-01-02    5\n",
       "2013-01-03    5\n",
       "2013-01-04    5\n",
       "2013-01-05    5\n",
       "2013-01-06    5\n",
       "Freq: D, Name: D, dtype: int32"
      ]
     },
     "execution_count": 111,
     "metadata": {},
     "output_type": "execute_result"
    }
   ],
   "source": [
    "df['D']"
   ]
  },
  {
   "cell_type": "markdown",
   "id": "08c270cf",
   "metadata": {},
   "source": [
    "#### Missing Data"
   ]
  },
  {
   "cell_type": "code",
   "execution_count": 112,
   "id": "280e79ae",
   "metadata": {},
   "outputs": [
    {
     "data": {
      "text/html": [
       "<div>\n",
       "<style scoped>\n",
       "    .dataframe tbody tr th:only-of-type {\n",
       "        vertical-align: middle;\n",
       "    }\n",
       "\n",
       "    .dataframe tbody tr th {\n",
       "        vertical-align: top;\n",
       "    }\n",
       "\n",
       "    .dataframe thead th {\n",
       "        text-align: right;\n",
       "    }\n",
       "</style>\n",
       "<table border=\"1\" class=\"dataframe\">\n",
       "  <thead>\n",
       "    <tr style=\"text-align: right;\">\n",
       "      <th></th>\n",
       "      <th>A</th>\n",
       "      <th>B</th>\n",
       "      <th>C</th>\n",
       "      <th>D</th>\n",
       "      <th>F</th>\n",
       "      <th>E</th>\n",
       "    </tr>\n",
       "  </thead>\n",
       "  <tbody>\n",
       "    <tr>\n",
       "      <th>2013-01-01</th>\n",
       "      <td>0.000000</td>\n",
       "      <td>0.000000</td>\n",
       "      <td>1.098360</td>\n",
       "      <td>5</td>\n",
       "      <td>NaN</td>\n",
       "      <td>1.0</td>\n",
       "    </tr>\n",
       "    <tr>\n",
       "      <th>2013-01-02</th>\n",
       "      <td>-0.471664</td>\n",
       "      <td>-1.263803</td>\n",
       "      <td>-0.351583</td>\n",
       "      <td>5</td>\n",
       "      <td>1.0</td>\n",
       "      <td>1.0</td>\n",
       "    </tr>\n",
       "    <tr>\n",
       "      <th>2013-01-03</th>\n",
       "      <td>0.727520</td>\n",
       "      <td>2.315726</td>\n",
       "      <td>0.790702</td>\n",
       "      <td>5</td>\n",
       "      <td>2.0</td>\n",
       "      <td>NaN</td>\n",
       "    </tr>\n",
       "    <tr>\n",
       "      <th>2013-01-04</th>\n",
       "      <td>-0.609783</td>\n",
       "      <td>0.104524</td>\n",
       "      <td>0.195492</td>\n",
       "      <td>5</td>\n",
       "      <td>3.0</td>\n",
       "      <td>NaN</td>\n",
       "    </tr>\n",
       "  </tbody>\n",
       "</table>\n",
       "</div>"
      ],
      "text/plain": [
       "                   A         B         C  D    F    E\n",
       "2013-01-01  0.000000  0.000000  1.098360  5  NaN  1.0\n",
       "2013-01-02 -0.471664 -1.263803 -0.351583  5  1.0  1.0\n",
       "2013-01-03  0.727520  2.315726  0.790702  5  2.0  NaN\n",
       "2013-01-04 -0.609783  0.104524  0.195492  5  3.0  NaN"
      ]
     },
     "execution_count": 112,
     "metadata": {},
     "output_type": "execute_result"
    }
   ],
   "source": [
    "df1 = df.reindex(index=dates[0:4], columns=list(df.columns) + [\"E\"])\n",
    "\n",
    "df1.loc[dates[0] : dates[1], \"E\"] = 1\n",
    "df1"
   ]
  },
  {
   "cell_type": "code",
   "execution_count": 115,
   "id": "77a90a34",
   "metadata": {},
   "outputs": [
    {
     "data": {
      "text/html": [
       "<div>\n",
       "<style scoped>\n",
       "    .dataframe tbody tr th:only-of-type {\n",
       "        vertical-align: middle;\n",
       "    }\n",
       "\n",
       "    .dataframe tbody tr th {\n",
       "        vertical-align: top;\n",
       "    }\n",
       "\n",
       "    .dataframe thead th {\n",
       "        text-align: right;\n",
       "    }\n",
       "</style>\n",
       "<table border=\"1\" class=\"dataframe\">\n",
       "  <thead>\n",
       "    <tr style=\"text-align: right;\">\n",
       "      <th></th>\n",
       "      <th>A</th>\n",
       "      <th>B</th>\n",
       "      <th>C</th>\n",
       "      <th>D</th>\n",
       "      <th>F</th>\n",
       "      <th>E</th>\n",
       "    </tr>\n",
       "  </thead>\n",
       "  <tbody>\n",
       "    <tr>\n",
       "      <th>2013-01-01</th>\n",
       "      <td>0.000000</td>\n",
       "      <td>0.000000</td>\n",
       "      <td>1.098360</td>\n",
       "      <td>5</td>\n",
       "      <td>5.0</td>\n",
       "      <td>1.0</td>\n",
       "    </tr>\n",
       "    <tr>\n",
       "      <th>2013-01-02</th>\n",
       "      <td>-0.471664</td>\n",
       "      <td>-1.263803</td>\n",
       "      <td>-0.351583</td>\n",
       "      <td>5</td>\n",
       "      <td>1.0</td>\n",
       "      <td>1.0</td>\n",
       "    </tr>\n",
       "    <tr>\n",
       "      <th>2013-01-03</th>\n",
       "      <td>0.727520</td>\n",
       "      <td>2.315726</td>\n",
       "      <td>0.790702</td>\n",
       "      <td>5</td>\n",
       "      <td>2.0</td>\n",
       "      <td>5.0</td>\n",
       "    </tr>\n",
       "    <tr>\n",
       "      <th>2013-01-04</th>\n",
       "      <td>-0.609783</td>\n",
       "      <td>0.104524</td>\n",
       "      <td>0.195492</td>\n",
       "      <td>5</td>\n",
       "      <td>3.0</td>\n",
       "      <td>5.0</td>\n",
       "    </tr>\n",
       "  </tbody>\n",
       "</table>\n",
       "</div>"
      ],
      "text/plain": [
       "                   A         B         C  D    F    E\n",
       "2013-01-01  0.000000  0.000000  1.098360  5  5.0  1.0\n",
       "2013-01-02 -0.471664 -1.263803 -0.351583  5  1.0  1.0\n",
       "2013-01-03  0.727520  2.315726  0.790702  5  2.0  5.0\n",
       "2013-01-04 -0.609783  0.104524  0.195492  5  3.0  5.0"
      ]
     },
     "execution_count": 115,
     "metadata": {},
     "output_type": "execute_result"
    }
   ],
   "source": [
    "pd.isna(df1)\n",
    "df1.dropna(how=\"any\")\n",
    "df1.fillna(value=5)"
   ]
  },
  {
   "cell_type": "markdown",
   "id": "4dd33cba",
   "metadata": {},
   "source": [
    "### Operations"
   ]
  },
  {
   "cell_type": "code",
   "execution_count": 118,
   "id": "86938aa4",
   "metadata": {},
   "outputs": [
    {
     "data": {
      "text/plain": [
       "A    0.158654\n",
       "B   -0.047567\n",
       "C   -0.217893\n",
       "D    5.000000\n",
       "F    3.000000\n",
       "dtype: float64"
      ]
     },
     "execution_count": 118,
     "metadata": {},
     "output_type": "execute_result"
    }
   ],
   "source": [
    "df.mean()          # column mean\n",
    "# df.mean(1)       # Row mean"
   ]
  },
  {
   "cell_type": "markdown",
   "id": "4584bd8b",
   "metadata": {},
   "source": [
    "### Apply"
   ]
  },
  {
   "cell_type": "code",
   "execution_count": 120,
   "id": "ff390246",
   "metadata": {},
   "outputs": [
    {
     "data": {
      "text/plain": [
       "A    1.352512\n",
       "B    3.579529\n",
       "C    3.849060\n",
       "D    0.000000\n",
       "F    4.000000\n",
       "dtype: float64"
      ]
     },
     "execution_count": 120,
     "metadata": {},
     "output_type": "execute_result"
    }
   ],
   "source": [
    "df\n",
    "df.apply(lambda x: x.max() - x.min())"
   ]
  },
  {
   "cell_type": "markdown",
   "id": "45b5cd9b",
   "metadata": {},
   "source": [
    "### Frequency"
   ]
  },
  {
   "cell_type": "code",
   "execution_count": 123,
   "id": "cf74d683",
   "metadata": {},
   "outputs": [
    {
     "data": {
      "text/plain": [
       "1    2\n",
       "2    2\n",
       "3    2\n",
       "6    2\n",
       "5    1\n",
       "4    1\n",
       "dtype: int64"
      ]
     },
     "execution_count": 123,
     "metadata": {},
     "output_type": "execute_result"
    }
   ],
   "source": [
    "s = pd.Series(np.random.randint(0, 7, size=10))\n",
    "s\n",
    "s.value_counts()"
   ]
  },
  {
   "cell_type": "markdown",
   "id": "cd814683",
   "metadata": {},
   "source": [
    "### Merge "
   ]
  },
  {
   "cell_type": "code",
   "execution_count": 128,
   "id": "01c17300",
   "metadata": {},
   "outputs": [
    {
     "data": {
      "text/html": [
       "<div>\n",
       "<style scoped>\n",
       "    .dataframe tbody tr th:only-of-type {\n",
       "        vertical-align: middle;\n",
       "    }\n",
       "\n",
       "    .dataframe tbody tr th {\n",
       "        vertical-align: top;\n",
       "    }\n",
       "\n",
       "    .dataframe thead th {\n",
       "        text-align: right;\n",
       "    }\n",
       "</style>\n",
       "<table border=\"1\" class=\"dataframe\">\n",
       "  <thead>\n",
       "    <tr style=\"text-align: right;\">\n",
       "      <th></th>\n",
       "      <th>0</th>\n",
       "      <th>1</th>\n",
       "      <th>2</th>\n",
       "      <th>3</th>\n",
       "    </tr>\n",
       "  </thead>\n",
       "  <tbody>\n",
       "    <tr>\n",
       "      <th>0</th>\n",
       "      <td>1.065513</td>\n",
       "      <td>-0.553861</td>\n",
       "      <td>-0.506356</td>\n",
       "      <td>1.749402</td>\n",
       "    </tr>\n",
       "    <tr>\n",
       "      <th>1</th>\n",
       "      <td>0.960199</td>\n",
       "      <td>1.267933</td>\n",
       "      <td>-0.164290</td>\n",
       "      <td>0.413726</td>\n",
       "    </tr>\n",
       "    <tr>\n",
       "      <th>2</th>\n",
       "      <td>0.685523</td>\n",
       "      <td>-0.274082</td>\n",
       "      <td>1.382920</td>\n",
       "      <td>-0.234729</td>\n",
       "    </tr>\n",
       "    <tr>\n",
       "      <th>3</th>\n",
       "      <td>-0.429650</td>\n",
       "      <td>0.878177</td>\n",
       "      <td>-0.794666</td>\n",
       "      <td>-0.803658</td>\n",
       "    </tr>\n",
       "    <tr>\n",
       "      <th>4</th>\n",
       "      <td>1.169859</td>\n",
       "      <td>1.274813</td>\n",
       "      <td>-0.265773</td>\n",
       "      <td>-1.075933</td>\n",
       "    </tr>\n",
       "    <tr>\n",
       "      <th>5</th>\n",
       "      <td>-1.014757</td>\n",
       "      <td>2.066074</td>\n",
       "      <td>1.141322</td>\n",
       "      <td>0.041470</td>\n",
       "    </tr>\n",
       "    <tr>\n",
       "      <th>6</th>\n",
       "      <td>-0.614872</td>\n",
       "      <td>-0.158121</td>\n",
       "      <td>-0.697526</td>\n",
       "      <td>-1.035395</td>\n",
       "    </tr>\n",
       "    <tr>\n",
       "      <th>7</th>\n",
       "      <td>-0.151432</td>\n",
       "      <td>-2.442790</td>\n",
       "      <td>0.026716</td>\n",
       "      <td>1.770290</td>\n",
       "    </tr>\n",
       "    <tr>\n",
       "      <th>8</th>\n",
       "      <td>0.735942</td>\n",
       "      <td>-1.247415</td>\n",
       "      <td>0.096316</td>\n",
       "      <td>2.281216</td>\n",
       "    </tr>\n",
       "    <tr>\n",
       "      <th>9</th>\n",
       "      <td>2.714162</td>\n",
       "      <td>-1.843783</td>\n",
       "      <td>-1.275927</td>\n",
       "      <td>-0.902134</td>\n",
       "    </tr>\n",
       "  </tbody>\n",
       "</table>\n",
       "</div>"
      ],
      "text/plain": [
       "          0         1         2         3\n",
       "0  1.065513 -0.553861 -0.506356  1.749402\n",
       "1  0.960199  1.267933 -0.164290  0.413726\n",
       "2  0.685523 -0.274082  1.382920 -0.234729\n",
       "3 -0.429650  0.878177 -0.794666 -0.803658\n",
       "4  1.169859  1.274813 -0.265773 -1.075933\n",
       "5 -1.014757  2.066074  1.141322  0.041470\n",
       "6 -0.614872 -0.158121 -0.697526 -1.035395\n",
       "7 -0.151432 -2.442790  0.026716  1.770290\n",
       "8  0.735942 -1.247415  0.096316  2.281216\n",
       "9  2.714162 -1.843783 -1.275927 -0.902134"
      ]
     },
     "execution_count": 128,
     "metadata": {},
     "output_type": "execute_result"
    }
   ],
   "source": [
    "# # concat\n",
    "# df = pd.DataFrame(np.random.randn(10, 4))\n",
    "# df\n",
    "# break it into pieces\n",
    "pieces = [df[:3], df[3:7], df[7:]]\n",
    "pd.concat(pieces)"
   ]
  },
  {
   "cell_type": "code",
   "execution_count": null,
   "id": "c6b0b82e",
   "metadata": {},
   "outputs": [],
   "source": []
  },
  {
   "cell_type": "code",
   "execution_count": 136,
   "id": "40156ce6",
   "metadata": {},
   "outputs": [
    {
     "data": {
      "text/html": [
       "<div>\n",
       "<style scoped>\n",
       "    .dataframe tbody tr th:only-of-type {\n",
       "        vertical-align: middle;\n",
       "    }\n",
       "\n",
       "    .dataframe tbody tr th {\n",
       "        vertical-align: top;\n",
       "    }\n",
       "\n",
       "    .dataframe thead th {\n",
       "        text-align: right;\n",
       "    }\n",
       "</style>\n",
       "<table border=\"1\" class=\"dataframe\">\n",
       "  <thead>\n",
       "    <tr style=\"text-align: right;\">\n",
       "      <th></th>\n",
       "      <th>key</th>\n",
       "      <th>lval</th>\n",
       "      <th>rval</th>\n",
       "    </tr>\n",
       "  </thead>\n",
       "  <tbody>\n",
       "    <tr>\n",
       "      <th>0</th>\n",
       "      <td>foo</td>\n",
       "      <td>2</td>\n",
       "      <td>4</td>\n",
       "    </tr>\n",
       "    <tr>\n",
       "      <th>1</th>\n",
       "      <td>foo</td>\n",
       "      <td>2</td>\n",
       "      <td>5</td>\n",
       "    </tr>\n",
       "  </tbody>\n",
       "</table>\n",
       "</div>"
      ],
      "text/plain": [
       "   key  lval  rval\n",
       "0  foo     2     4\n",
       "1  foo     2     5"
      ]
     },
     "execution_count": 136,
     "metadata": {},
     "output_type": "execute_result"
    }
   ],
   "source": [
    "left = pd.DataFrame({\"key\": [\"foo\", \"foo\"], \"lval\": [1, 2]})\n",
    "\n",
    "right = pd.DataFrame({\"key\": [\"foo\", \"foo\"], \"rval\": [4, 5]})\n",
    "\n",
    "left\n",
    "right\n",
    "pd.merge(left, right, on=\"key\")\n"
   ]
  },
  {
   "cell_type": "code",
   "execution_count": 129,
   "id": "f7cb2508",
   "metadata": {},
   "outputs": [
    {
     "data": {
      "text/html": [
       "<div>\n",
       "<style scoped>\n",
       "    .dataframe tbody tr th:only-of-type {\n",
       "        vertical-align: middle;\n",
       "    }\n",
       "\n",
       "    .dataframe tbody tr th {\n",
       "        vertical-align: top;\n",
       "    }\n",
       "\n",
       "    .dataframe thead th {\n",
       "        text-align: right;\n",
       "    }\n",
       "</style>\n",
       "<table border=\"1\" class=\"dataframe\">\n",
       "  <thead>\n",
       "    <tr style=\"text-align: right;\">\n",
       "      <th></th>\n",
       "      <th>key</th>\n",
       "      <th>lval</th>\n",
       "      <th>rval</th>\n",
       "    </tr>\n",
       "  </thead>\n",
       "  <tbody>\n",
       "    <tr>\n",
       "      <th>0</th>\n",
       "      <td>foo</td>\n",
       "      <td>1</td>\n",
       "      <td>4</td>\n",
       "    </tr>\n",
       "    <tr>\n",
       "      <th>1</th>\n",
       "      <td>bar</td>\n",
       "      <td>2</td>\n",
       "      <td>5</td>\n",
       "    </tr>\n",
       "  </tbody>\n",
       "</table>\n",
       "</div>"
      ],
      "text/plain": [
       "   key  lval  rval\n",
       "0  foo     1     4\n",
       "1  bar     2     5"
      ]
     },
     "execution_count": 129,
     "metadata": {},
     "output_type": "execute_result"
    }
   ],
   "source": [
    "left = pd.DataFrame({\"key\": [\"foo\", \"bar\"], \"lval\": [1, 2]})\n",
    "\n",
    "right = pd.DataFrame({\"key\": [\"foo\", \"bar\"], \"rval\": [4, 5]})\n",
    "\n",
    "left\n",
    "right\n",
    "pd.merge(left, right, on=\"key\")\n"
   ]
  },
  {
   "cell_type": "markdown",
   "id": "84c6b8df",
   "metadata": {},
   "source": [
    "### Grouping\n",
    "By “group by” we are referring to a process involving one or more of the following steps:\n",
    "- Splitting the data into groups based on some criteria\n",
    "- Applying a function to each group independently\n",
    "- Combining the results into a data structure"
   ]
  },
  {
   "cell_type": "code",
   "execution_count": 137,
   "id": "c60854ca",
   "metadata": {},
   "outputs": [
    {
     "data": {
      "text/html": [
       "<div>\n",
       "<style scoped>\n",
       "    .dataframe tbody tr th:only-of-type {\n",
       "        vertical-align: middle;\n",
       "    }\n",
       "\n",
       "    .dataframe tbody tr th {\n",
       "        vertical-align: top;\n",
       "    }\n",
       "\n",
       "    .dataframe thead th {\n",
       "        text-align: right;\n",
       "    }\n",
       "</style>\n",
       "<table border=\"1\" class=\"dataframe\">\n",
       "  <thead>\n",
       "    <tr style=\"text-align: right;\">\n",
       "      <th></th>\n",
       "      <th>A</th>\n",
       "      <th>B</th>\n",
       "      <th>C</th>\n",
       "      <th>D</th>\n",
       "    </tr>\n",
       "  </thead>\n",
       "  <tbody>\n",
       "    <tr>\n",
       "      <th>0</th>\n",
       "      <td>foo</td>\n",
       "      <td>one</td>\n",
       "      <td>-0.634771</td>\n",
       "      <td>1.189172</td>\n",
       "    </tr>\n",
       "    <tr>\n",
       "      <th>1</th>\n",
       "      <td>bar</td>\n",
       "      <td>one</td>\n",
       "      <td>-0.425903</td>\n",
       "      <td>1.007748</td>\n",
       "    </tr>\n",
       "    <tr>\n",
       "      <th>2</th>\n",
       "      <td>foo</td>\n",
       "      <td>two</td>\n",
       "      <td>-1.332918</td>\n",
       "      <td>0.897437</td>\n",
       "    </tr>\n",
       "    <tr>\n",
       "      <th>3</th>\n",
       "      <td>bar</td>\n",
       "      <td>three</td>\n",
       "      <td>-0.503126</td>\n",
       "      <td>0.203420</td>\n",
       "    </tr>\n",
       "    <tr>\n",
       "      <th>4</th>\n",
       "      <td>foo</td>\n",
       "      <td>two</td>\n",
       "      <td>-1.161975</td>\n",
       "      <td>0.244903</td>\n",
       "    </tr>\n",
       "    <tr>\n",
       "      <th>5</th>\n",
       "      <td>bar</td>\n",
       "      <td>two</td>\n",
       "      <td>-1.611643</td>\n",
       "      <td>-1.047648</td>\n",
       "    </tr>\n",
       "    <tr>\n",
       "      <th>6</th>\n",
       "      <td>foo</td>\n",
       "      <td>one</td>\n",
       "      <td>0.514890</td>\n",
       "      <td>0.781343</td>\n",
       "    </tr>\n",
       "    <tr>\n",
       "      <th>7</th>\n",
       "      <td>foo</td>\n",
       "      <td>three</td>\n",
       "      <td>-0.955941</td>\n",
       "      <td>0.485680</td>\n",
       "    </tr>\n",
       "  </tbody>\n",
       "</table>\n",
       "</div>"
      ],
      "text/plain": [
       "     A      B         C         D\n",
       "0  foo    one -0.634771  1.189172\n",
       "1  bar    one -0.425903  1.007748\n",
       "2  foo    two -1.332918  0.897437\n",
       "3  bar  three -0.503126  0.203420\n",
       "4  foo    two -1.161975  0.244903\n",
       "5  bar    two -1.611643 -1.047648\n",
       "6  foo    one  0.514890  0.781343\n",
       "7  foo  three -0.955941  0.485680"
      ]
     },
     "execution_count": 137,
     "metadata": {},
     "output_type": "execute_result"
    }
   ],
   "source": [
    "df = pd.DataFrame(\n",
    "    {\n",
    "        \"A\": [\"foo\", \"bar\", \"foo\", \"bar\", \"foo\", \"bar\", \"foo\", \"foo\"],\n",
    "        \"B\": [\"one\", \"one\", \"two\", \"three\", \"two\", \"two\", \"one\", \"three\"],\n",
    "        \"C\": np.random.randn(8),\n",
    "        \"D\": np.random.randn(8),\n",
    "    }\n",
    ")\n",
    "\n",
    "df"
   ]
  },
  {
   "cell_type": "code",
   "execution_count": 138,
   "id": "356b065b",
   "metadata": {},
   "outputs": [
    {
     "data": {
      "text/html": [
       "<div>\n",
       "<style scoped>\n",
       "    .dataframe tbody tr th:only-of-type {\n",
       "        vertical-align: middle;\n",
       "    }\n",
       "\n",
       "    .dataframe tbody tr th {\n",
       "        vertical-align: top;\n",
       "    }\n",
       "\n",
       "    .dataframe thead th {\n",
       "        text-align: right;\n",
       "    }\n",
       "</style>\n",
       "<table border=\"1\" class=\"dataframe\">\n",
       "  <thead>\n",
       "    <tr style=\"text-align: right;\">\n",
       "      <th></th>\n",
       "      <th>C</th>\n",
       "      <th>D</th>\n",
       "    </tr>\n",
       "    <tr>\n",
       "      <th>A</th>\n",
       "      <th></th>\n",
       "      <th></th>\n",
       "    </tr>\n",
       "  </thead>\n",
       "  <tbody>\n",
       "    <tr>\n",
       "      <th>bar</th>\n",
       "      <td>-2.540673</td>\n",
       "      <td>0.163520</td>\n",
       "    </tr>\n",
       "    <tr>\n",
       "      <th>foo</th>\n",
       "      <td>-3.570715</td>\n",
       "      <td>3.598535</td>\n",
       "    </tr>\n",
       "  </tbody>\n",
       "</table>\n",
       "</div>"
      ],
      "text/plain": [
       "            C         D\n",
       "A                      \n",
       "bar -2.540673  0.163520\n",
       "foo -3.570715  3.598535"
      ]
     },
     "execution_count": 138,
     "metadata": {},
     "output_type": "execute_result"
    }
   ],
   "source": [
    "df.groupby(\"A\")[[\"C\", \"D\"]].sum()\n"
   ]
  },
  {
   "cell_type": "markdown",
   "id": "25c7b16d",
   "metadata": {},
   "source": [
    "##### Pivot Table\n",
    "- pivot_table() pivots a DataFrame specifying the values, index and columns"
   ]
  },
  {
   "cell_type": "code",
   "execution_count": 139,
   "id": "3f8cd8e4",
   "metadata": {},
   "outputs": [
    {
     "data": {
      "text/html": [
       "<div>\n",
       "<style scoped>\n",
       "    .dataframe tbody tr th:only-of-type {\n",
       "        vertical-align: middle;\n",
       "    }\n",
       "\n",
       "    .dataframe tbody tr th {\n",
       "        vertical-align: top;\n",
       "    }\n",
       "\n",
       "    .dataframe thead th {\n",
       "        text-align: right;\n",
       "    }\n",
       "</style>\n",
       "<table border=\"1\" class=\"dataframe\">\n",
       "  <thead>\n",
       "    <tr style=\"text-align: right;\">\n",
       "      <th></th>\n",
       "      <th>A</th>\n",
       "      <th>B</th>\n",
       "      <th>C</th>\n",
       "      <th>D</th>\n",
       "      <th>E</th>\n",
       "    </tr>\n",
       "  </thead>\n",
       "  <tbody>\n",
       "    <tr>\n",
       "      <th>0</th>\n",
       "      <td>one</td>\n",
       "      <td>A</td>\n",
       "      <td>foo</td>\n",
       "      <td>-1.436487</td>\n",
       "      <td>0.071795</td>\n",
       "    </tr>\n",
       "    <tr>\n",
       "      <th>1</th>\n",
       "      <td>one</td>\n",
       "      <td>B</td>\n",
       "      <td>foo</td>\n",
       "      <td>0.138218</td>\n",
       "      <td>-0.734089</td>\n",
       "    </tr>\n",
       "    <tr>\n",
       "      <th>2</th>\n",
       "      <td>two</td>\n",
       "      <td>C</td>\n",
       "      <td>foo</td>\n",
       "      <td>-2.468400</td>\n",
       "      <td>-0.325432</td>\n",
       "    </tr>\n",
       "    <tr>\n",
       "      <th>3</th>\n",
       "      <td>three</td>\n",
       "      <td>A</td>\n",
       "      <td>bar</td>\n",
       "      <td>-0.095242</td>\n",
       "      <td>-1.714720</td>\n",
       "    </tr>\n",
       "    <tr>\n",
       "      <th>4</th>\n",
       "      <td>one</td>\n",
       "      <td>B</td>\n",
       "      <td>bar</td>\n",
       "      <td>-0.836369</td>\n",
       "      <td>0.360754</td>\n",
       "    </tr>\n",
       "    <tr>\n",
       "      <th>5</th>\n",
       "      <td>one</td>\n",
       "      <td>C</td>\n",
       "      <td>bar</td>\n",
       "      <td>-0.358358</td>\n",
       "      <td>-1.342403</td>\n",
       "    </tr>\n",
       "    <tr>\n",
       "      <th>6</th>\n",
       "      <td>two</td>\n",
       "      <td>A</td>\n",
       "      <td>foo</td>\n",
       "      <td>1.122638</td>\n",
       "      <td>1.403170</td>\n",
       "    </tr>\n",
       "    <tr>\n",
       "      <th>7</th>\n",
       "      <td>three</td>\n",
       "      <td>B</td>\n",
       "      <td>foo</td>\n",
       "      <td>-0.967374</td>\n",
       "      <td>0.846678</td>\n",
       "    </tr>\n",
       "    <tr>\n",
       "      <th>8</th>\n",
       "      <td>one</td>\n",
       "      <td>C</td>\n",
       "      <td>foo</td>\n",
       "      <td>-0.353624</td>\n",
       "      <td>0.631010</td>\n",
       "    </tr>\n",
       "    <tr>\n",
       "      <th>9</th>\n",
       "      <td>one</td>\n",
       "      <td>A</td>\n",
       "      <td>bar</td>\n",
       "      <td>-0.315156</td>\n",
       "      <td>-0.507005</td>\n",
       "    </tr>\n",
       "    <tr>\n",
       "      <th>10</th>\n",
       "      <td>two</td>\n",
       "      <td>B</td>\n",
       "      <td>bar</td>\n",
       "      <td>0.334815</td>\n",
       "      <td>0.682721</td>\n",
       "    </tr>\n",
       "    <tr>\n",
       "      <th>11</th>\n",
       "      <td>three</td>\n",
       "      <td>C</td>\n",
       "      <td>bar</td>\n",
       "      <td>-0.653552</td>\n",
       "      <td>-0.773710</td>\n",
       "    </tr>\n",
       "  </tbody>\n",
       "</table>\n",
       "</div>"
      ],
      "text/plain": [
       "        A  B    C         D         E\n",
       "0     one  A  foo -1.436487  0.071795\n",
       "1     one  B  foo  0.138218 -0.734089\n",
       "2     two  C  foo -2.468400 -0.325432\n",
       "3   three  A  bar -0.095242 -1.714720\n",
       "4     one  B  bar -0.836369  0.360754\n",
       "5     one  C  bar -0.358358 -1.342403\n",
       "6     two  A  foo  1.122638  1.403170\n",
       "7   three  B  foo -0.967374  0.846678\n",
       "8     one  C  foo -0.353624  0.631010\n",
       "9     one  A  bar -0.315156 -0.507005\n",
       "10    two  B  bar  0.334815  0.682721\n",
       "11  three  C  bar -0.653552 -0.773710"
      ]
     },
     "execution_count": 139,
     "metadata": {},
     "output_type": "execute_result"
    }
   ],
   "source": [
    "df = pd.DataFrame(\n",
    "    {\n",
    "        \"A\": [\"one\", \"one\", \"two\", \"three\"] * 3,\n",
    "        \"B\": [\"A\", \"B\", \"C\"] * 4,\n",
    "        \"C\": [\"foo\", \"foo\", \"foo\", \"bar\", \"bar\", \"bar\"] * 2,\n",
    "        \"D\": np.random.randn(12),\n",
    "        \"E\": np.random.randn(12),\n",
    "    }\n",
    ")\n",
    "\n",
    "df"
   ]
  },
  {
   "cell_type": "code",
   "execution_count": 140,
   "id": "ada618a2",
   "metadata": {},
   "outputs": [
    {
     "data": {
      "text/html": [
       "<div>\n",
       "<style scoped>\n",
       "    .dataframe tbody tr th:only-of-type {\n",
       "        vertical-align: middle;\n",
       "    }\n",
       "\n",
       "    .dataframe tbody tr th {\n",
       "        vertical-align: top;\n",
       "    }\n",
       "\n",
       "    .dataframe thead th {\n",
       "        text-align: right;\n",
       "    }\n",
       "</style>\n",
       "<table border=\"1\" class=\"dataframe\">\n",
       "  <thead>\n",
       "    <tr style=\"text-align: right;\">\n",
       "      <th></th>\n",
       "      <th>C</th>\n",
       "      <th>bar</th>\n",
       "      <th>foo</th>\n",
       "    </tr>\n",
       "    <tr>\n",
       "      <th>A</th>\n",
       "      <th>B</th>\n",
       "      <th></th>\n",
       "      <th></th>\n",
       "    </tr>\n",
       "  </thead>\n",
       "  <tbody>\n",
       "    <tr>\n",
       "      <th rowspan=\"3\" valign=\"top\">one</th>\n",
       "      <th>A</th>\n",
       "      <td>-0.315156</td>\n",
       "      <td>-1.436487</td>\n",
       "    </tr>\n",
       "    <tr>\n",
       "      <th>B</th>\n",
       "      <td>-0.836369</td>\n",
       "      <td>0.138218</td>\n",
       "    </tr>\n",
       "    <tr>\n",
       "      <th>C</th>\n",
       "      <td>-0.358358</td>\n",
       "      <td>-0.353624</td>\n",
       "    </tr>\n",
       "    <tr>\n",
       "      <th rowspan=\"3\" valign=\"top\">three</th>\n",
       "      <th>A</th>\n",
       "      <td>-0.095242</td>\n",
       "      <td>NaN</td>\n",
       "    </tr>\n",
       "    <tr>\n",
       "      <th>B</th>\n",
       "      <td>NaN</td>\n",
       "      <td>-0.967374</td>\n",
       "    </tr>\n",
       "    <tr>\n",
       "      <th>C</th>\n",
       "      <td>-0.653552</td>\n",
       "      <td>NaN</td>\n",
       "    </tr>\n",
       "    <tr>\n",
       "      <th rowspan=\"3\" valign=\"top\">two</th>\n",
       "      <th>A</th>\n",
       "      <td>NaN</td>\n",
       "      <td>1.122638</td>\n",
       "    </tr>\n",
       "    <tr>\n",
       "      <th>B</th>\n",
       "      <td>0.334815</td>\n",
       "      <td>NaN</td>\n",
       "    </tr>\n",
       "    <tr>\n",
       "      <th>C</th>\n",
       "      <td>NaN</td>\n",
       "      <td>-2.468400</td>\n",
       "    </tr>\n",
       "  </tbody>\n",
       "</table>\n",
       "</div>"
      ],
      "text/plain": [
       "C             bar       foo\n",
       "A     B                    \n",
       "one   A -0.315156 -1.436487\n",
       "      B -0.836369  0.138218\n",
       "      C -0.358358 -0.353624\n",
       "three A -0.095242       NaN\n",
       "      B       NaN -0.967374\n",
       "      C -0.653552       NaN\n",
       "two   A       NaN  1.122638\n",
       "      B  0.334815       NaN\n",
       "      C       NaN -2.468400"
      ]
     },
     "execution_count": 140,
     "metadata": {},
     "output_type": "execute_result"
    }
   ],
   "source": [
    "pd.pivot_table(df, values=\"D\", index=[\"A\", \"B\"], columns=[\"C\"])"
   ]
  },
  {
   "cell_type": "markdown",
   "id": "1a10a94f",
   "metadata": {},
   "source": [
    "### Time Series"
   ]
  },
  {
   "cell_type": "code",
   "execution_count": 148,
   "id": "06006bc8",
   "metadata": {},
   "outputs": [
    {
     "data": {
      "text/plain": [
       "2012-01-01    26273\n",
       "Freq: 5T, dtype: int32"
      ]
     },
     "execution_count": 148,
     "metadata": {},
     "output_type": "execute_result"
    }
   ],
   "source": [
    "rng = pd.date_range(\"1/1/2012\", periods=100, freq=\"S\")\n",
    "rng\n",
    "\n",
    "ts = pd.Series(np.random.randint(0, 500, len(rng)), index=rng)\n",
    "ts\n",
    "# ts.resample(\"5Min\").sum()"
   ]
  },
  {
   "cell_type": "markdown",
   "id": "26b0ce21",
   "metadata": {},
   "source": [
    "### Categorical"
   ]
  },
  {
   "cell_type": "code",
   "execution_count": 149,
   "id": "7fee5434",
   "metadata": {},
   "outputs": [],
   "source": [
    "df = pd.DataFrame(\n",
    "    {\"id\": [1, 2, 3, 4, 5, 6], \"raw_grade\": [\"a\", \"b\", \"b\", \"a\", \"a\", \"e\"]}\n",
    ")"
   ]
  },
  {
   "cell_type": "code",
   "execution_count": 151,
   "id": "60d536ba",
   "metadata": {},
   "outputs": [
    {
     "data": {
      "text/plain": [
       "0    a\n",
       "1    b\n",
       "2    b\n",
       "3    a\n",
       "4    a\n",
       "5    e\n",
       "Name: grade, dtype: category\n",
       "Categories (3, object): ['a', 'b', 'e']"
      ]
     },
     "execution_count": 151,
     "metadata": {},
     "output_type": "execute_result"
    }
   ],
   "source": [
    "df[\"grade\"] = df[\"raw_grade\"].astype(\"category\")\n",
    "\n",
    "df[\"grade\"]"
   ]
  },
  {
   "cell_type": "code",
   "execution_count": 152,
   "id": "409f97ad",
   "metadata": {},
   "outputs": [],
   "source": [
    "new_categories = [\"very good\", \"good\", \"very bad\"]\n",
    "\n",
    "df[\"grade\"] = df[\"grade\"].cat.rename_categories(new_categories)"
   ]
  },
  {
   "cell_type": "code",
   "execution_count": 154,
   "id": "bbf3a3d6",
   "metadata": {},
   "outputs": [
    {
     "data": {
      "text/html": [
       "<div>\n",
       "<style scoped>\n",
       "    .dataframe tbody tr th:only-of-type {\n",
       "        vertical-align: middle;\n",
       "    }\n",
       "\n",
       "    .dataframe tbody tr th {\n",
       "        vertical-align: top;\n",
       "    }\n",
       "\n",
       "    .dataframe thead th {\n",
       "        text-align: right;\n",
       "    }\n",
       "</style>\n",
       "<table border=\"1\" class=\"dataframe\">\n",
       "  <thead>\n",
       "    <tr style=\"text-align: right;\">\n",
       "      <th></th>\n",
       "      <th>id</th>\n",
       "      <th>raw_grade</th>\n",
       "      <th>grade</th>\n",
       "    </tr>\n",
       "  </thead>\n",
       "  <tbody>\n",
       "    <tr>\n",
       "      <th>0</th>\n",
       "      <td>1</td>\n",
       "      <td>a</td>\n",
       "      <td>very good</td>\n",
       "    </tr>\n",
       "    <tr>\n",
       "      <th>1</th>\n",
       "      <td>2</td>\n",
       "      <td>b</td>\n",
       "      <td>good</td>\n",
       "    </tr>\n",
       "    <tr>\n",
       "      <th>2</th>\n",
       "      <td>3</td>\n",
       "      <td>b</td>\n",
       "      <td>good</td>\n",
       "    </tr>\n",
       "    <tr>\n",
       "      <th>3</th>\n",
       "      <td>4</td>\n",
       "      <td>a</td>\n",
       "      <td>very good</td>\n",
       "    </tr>\n",
       "    <tr>\n",
       "      <th>4</th>\n",
       "      <td>5</td>\n",
       "      <td>a</td>\n",
       "      <td>very good</td>\n",
       "    </tr>\n",
       "    <tr>\n",
       "      <th>5</th>\n",
       "      <td>6</td>\n",
       "      <td>e</td>\n",
       "      <td>very bad</td>\n",
       "    </tr>\n",
       "  </tbody>\n",
       "</table>\n",
       "</div>"
      ],
      "text/plain": [
       "   id raw_grade      grade\n",
       "0   1         a  very good\n",
       "1   2         b       good\n",
       "2   3         b       good\n",
       "3   4         a  very good\n",
       "4   5         a  very good\n",
       "5   6         e   very bad"
      ]
     },
     "execution_count": 154,
     "metadata": {},
     "output_type": "execute_result"
    }
   ],
   "source": [
    "df[\"grade\"] = df[\"grade\"].cat.set_categories(\n",
    "    [\"very bad\", \"bad\", \"medium\", \"good\", \"very good\"]\n",
    ")\n",
    "\n",
    "\n",
    "df[\"grade\"]\n",
    "df"
   ]
  },
  {
   "cell_type": "code",
   "execution_count": 155,
   "id": "fdd6dbe7",
   "metadata": {},
   "outputs": [
    {
     "data": {
      "text/html": [
       "<div>\n",
       "<style scoped>\n",
       "    .dataframe tbody tr th:only-of-type {\n",
       "        vertical-align: middle;\n",
       "    }\n",
       "\n",
       "    .dataframe tbody tr th {\n",
       "        vertical-align: top;\n",
       "    }\n",
       "\n",
       "    .dataframe thead th {\n",
       "        text-align: right;\n",
       "    }\n",
       "</style>\n",
       "<table border=\"1\" class=\"dataframe\">\n",
       "  <thead>\n",
       "    <tr style=\"text-align: right;\">\n",
       "      <th></th>\n",
       "      <th>id</th>\n",
       "      <th>raw_grade</th>\n",
       "      <th>grade</th>\n",
       "    </tr>\n",
       "  </thead>\n",
       "  <tbody>\n",
       "    <tr>\n",
       "      <th>5</th>\n",
       "      <td>6</td>\n",
       "      <td>e</td>\n",
       "      <td>very bad</td>\n",
       "    </tr>\n",
       "    <tr>\n",
       "      <th>1</th>\n",
       "      <td>2</td>\n",
       "      <td>b</td>\n",
       "      <td>good</td>\n",
       "    </tr>\n",
       "    <tr>\n",
       "      <th>2</th>\n",
       "      <td>3</td>\n",
       "      <td>b</td>\n",
       "      <td>good</td>\n",
       "    </tr>\n",
       "    <tr>\n",
       "      <th>0</th>\n",
       "      <td>1</td>\n",
       "      <td>a</td>\n",
       "      <td>very good</td>\n",
       "    </tr>\n",
       "    <tr>\n",
       "      <th>3</th>\n",
       "      <td>4</td>\n",
       "      <td>a</td>\n",
       "      <td>very good</td>\n",
       "    </tr>\n",
       "    <tr>\n",
       "      <th>4</th>\n",
       "      <td>5</td>\n",
       "      <td>a</td>\n",
       "      <td>very good</td>\n",
       "    </tr>\n",
       "  </tbody>\n",
       "</table>\n",
       "</div>"
      ],
      "text/plain": [
       "   id raw_grade      grade\n",
       "5   6         e   very bad\n",
       "1   2         b       good\n",
       "2   3         b       good\n",
       "0   1         a  very good\n",
       "3   4         a  very good\n",
       "4   5         a  very good"
      ]
     },
     "execution_count": 155,
     "metadata": {},
     "output_type": "execute_result"
    }
   ],
   "source": [
    "df.sort_values(by=\"grade\")"
   ]
  },
  {
   "cell_type": "code",
   "execution_count": 156,
   "id": "45cf0075",
   "metadata": {},
   "outputs": [
    {
     "data": {
      "text/plain": [
       "grade\n",
       "very bad     1\n",
       "bad          0\n",
       "medium       0\n",
       "good         2\n",
       "very good    3\n",
       "dtype: int64"
      ]
     },
     "execution_count": 156,
     "metadata": {},
     "output_type": "execute_result"
    }
   ],
   "source": [
    "df.groupby(\"grade\").size()"
   ]
  },
  {
   "cell_type": "code",
   "execution_count": null,
   "id": "9e1c3624",
   "metadata": {},
   "outputs": [],
   "source": []
  },
  {
   "cell_type": "code",
   "execution_count": 161,
   "id": "71642c81",
   "metadata": {},
   "outputs": [
    {
     "data": {
      "text/plain": [
       "<AxesSubplot:>"
      ]
     },
     "execution_count": 161,
     "metadata": {},
     "output_type": "execute_result"
    },
    {
     "data": {
      "image/png": "[encoded data removed]",
      "text/plain": [
       "<Figure size 432x288 with 1 Axes>"
      ]
     },
     "metadata": {
      "needs_background": "light"
     },
     "output_type": "display_data"
    }
   ],
   "source": [
    "ts = pd.Series(np.random.randn(1000), index=pd.date_range(\"1/1/2000\", periods=1000))\n",
    "# ts = ts.cumsum()\n",
    "# ts.plot();\n",
    "\n",
    "df = pd.DataFrame(\n",
    "    np.random.randn(1000, 4), index=ts.index, columns=[\"A\", \"B\", \"C\", \"D\"]\n",
    ")\n",
    "\n",
    "\n",
    "df = df.cumsum()\n",
    "\n",
    "# plt.figure()\n",
    "\n",
    "df.plot()\n",
    "\n",
    "# plt.legend(loc='best')"
   ]
  },
  {
   "cell_type": "markdown",
   "id": "12f0848f",
   "metadata": {},
   "source": [
    "## Importing and Exporting data"
   ]
  },
  {
   "cell_type": "code",
   "execution_count": 162,
   "id": "67f40440",
   "metadata": {},
   "outputs": [],
   "source": [
    "# Writing to csv file\n",
    "df.to_csv(\"foo.csv\")"
   ]
  },
  {
   "cell_type": "code",
   "execution_count": 163,
   "id": "8e12b4cb",
   "metadata": {},
   "outputs": [
    {
     "data": {
      "text/html": [
       "<div>\n",
       "<style scoped>\n",
       "    .dataframe tbody tr th:only-of-type {\n",
       "        vertical-align: middle;\n",
       "    }\n",
       "\n",
       "    .dataframe tbody tr th {\n",
       "        vertical-align: top;\n",
       "    }\n",
       "\n",
       "    .dataframe thead th {\n",
       "        text-align: right;\n",
       "    }\n",
       "</style>\n",
       "<table border=\"1\" class=\"dataframe\">\n",
       "  <thead>\n",
       "    <tr style=\"text-align: right;\">\n",
       "      <th></th>\n",
       "      <th>Unnamed: 0</th>\n",
       "      <th>A</th>\n",
       "      <th>B</th>\n",
       "      <th>C</th>\n",
       "      <th>D</th>\n",
       "    </tr>\n",
       "  </thead>\n",
       "  <tbody>\n",
       "    <tr>\n",
       "      <th>0</th>\n",
       "      <td>2000-01-01</td>\n",
       "      <td>0.582922</td>\n",
       "      <td>-0.120947</td>\n",
       "      <td>1.093642</td>\n",
       "      <td>1.140208</td>\n",
       "    </tr>\n",
       "    <tr>\n",
       "      <th>1</th>\n",
       "      <td>2000-01-02</td>\n",
       "      <td>-1.613308</td>\n",
       "      <td>-0.846631</td>\n",
       "      <td>1.724547</td>\n",
       "      <td>1.449886</td>\n",
       "    </tr>\n",
       "    <tr>\n",
       "      <th>2</th>\n",
       "      <td>2000-01-03</td>\n",
       "      <td>-0.630238</td>\n",
       "      <td>-2.996351</td>\n",
       "      <td>1.239218</td>\n",
       "      <td>0.477373</td>\n",
       "    </tr>\n",
       "    <tr>\n",
       "      <th>3</th>\n",
       "      <td>2000-01-04</td>\n",
       "      <td>-2.688407</td>\n",
       "      <td>-2.043702</td>\n",
       "      <td>0.672786</td>\n",
       "      <td>-0.233272</td>\n",
       "    </tr>\n",
       "    <tr>\n",
       "      <th>4</th>\n",
       "      <td>2000-01-05</td>\n",
       "      <td>-3.182543</td>\n",
       "      <td>-1.190634</td>\n",
       "      <td>0.596784</td>\n",
       "      <td>-1.651477</td>\n",
       "    </tr>\n",
       "    <tr>\n",
       "      <th>...</th>\n",
       "      <td>...</td>\n",
       "      <td>...</td>\n",
       "      <td>...</td>\n",
       "      <td>...</td>\n",
       "      <td>...</td>\n",
       "    </tr>\n",
       "    <tr>\n",
       "      <th>995</th>\n",
       "      <td>2002-09-22</td>\n",
       "      <td>-4.327248</td>\n",
       "      <td>30.504896</td>\n",
       "      <td>-10.477215</td>\n",
       "      <td>42.606414</td>\n",
       "    </tr>\n",
       "    <tr>\n",
       "      <th>996</th>\n",
       "      <td>2002-09-23</td>\n",
       "      <td>-4.256974</td>\n",
       "      <td>30.271511</td>\n",
       "      <td>-9.210389</td>\n",
       "      <td>43.005460</td>\n",
       "    </tr>\n",
       "    <tr>\n",
       "      <th>997</th>\n",
       "      <td>2002-09-24</td>\n",
       "      <td>-4.102504</td>\n",
       "      <td>30.375037</td>\n",
       "      <td>-9.057961</td>\n",
       "      <td>42.447915</td>\n",
       "    </tr>\n",
       "    <tr>\n",
       "      <th>998</th>\n",
       "      <td>2002-09-25</td>\n",
       "      <td>-4.325395</td>\n",
       "      <td>31.310130</td>\n",
       "      <td>-8.816517</td>\n",
       "      <td>42.790825</td>\n",
       "    </tr>\n",
       "    <tr>\n",
       "      <th>999</th>\n",
       "      <td>2002-09-26</td>\n",
       "      <td>-4.645635</td>\n",
       "      <td>33.419128</td>\n",
       "      <td>-8.429394</td>\n",
       "      <td>43.002077</td>\n",
       "    </tr>\n",
       "  </tbody>\n",
       "</table>\n",
       "<p>1000 rows × 5 columns</p>\n",
       "</div>"
      ],
      "text/plain": [
       "     Unnamed: 0         A          B          C          D\n",
       "0    2000-01-01  0.582922  -0.120947   1.093642   1.140208\n",
       "1    2000-01-02 -1.613308  -0.846631   1.724547   1.449886\n",
       "2    2000-01-03 -0.630238  -2.996351   1.239218   0.477373\n",
       "3    2000-01-04 -2.688407  -2.043702   0.672786  -0.233272\n",
       "4    2000-01-05 -3.182543  -1.190634   0.596784  -1.651477\n",
       "..          ...       ...        ...        ...        ...\n",
       "995  2002-09-22 -4.327248  30.504896 -10.477215  42.606414\n",
       "996  2002-09-23 -4.256974  30.271511  -9.210389  43.005460\n",
       "997  2002-09-24 -4.102504  30.375037  -9.057961  42.447915\n",
       "998  2002-09-25 -4.325395  31.310130  -8.816517  42.790825\n",
       "999  2002-09-26 -4.645635  33.419128  -8.429394  43.002077\n",
       "\n",
       "[1000 rows x 5 columns]"
      ]
     },
     "execution_count": 163,
     "metadata": {},
     "output_type": "execute_result"
    }
   ],
   "source": [
    "# reading from a csv file\n",
    "pd.read_csv(\"foo.csv\")"
   ]
  },
  {
   "cell_type": "code",
   "execution_count": 164,
   "id": "37faf4af",
   "metadata": {},
   "outputs": [],
   "source": [
    "# writing to a excel file\n",
    "df.to_excel(\"foo.xlsx\", sheet_name=\"Sheet1\")"
   ]
  },
  {
   "cell_type": "code",
   "execution_count": 165,
   "id": "d2f25877",
   "metadata": {},
   "outputs": [
    {
     "data": {
      "text/html": [
       "<div>\n",
       "<style scoped>\n",
       "    .dataframe tbody tr th:only-of-type {\n",
       "        vertical-align: middle;\n",
       "    }\n",
       "\n",
       "    .dataframe tbody tr th {\n",
       "        vertical-align: top;\n",
       "    }\n",
       "\n",
       "    .dataframe thead th {\n",
       "        text-align: right;\n",
       "    }\n",
       "</style>\n",
       "<table border=\"1\" class=\"dataframe\">\n",
       "  <thead>\n",
       "    <tr style=\"text-align: right;\">\n",
       "      <th></th>\n",
       "      <th>Unnamed: 0</th>\n",
       "      <th>A</th>\n",
       "      <th>B</th>\n",
       "      <th>C</th>\n",
       "      <th>D</th>\n",
       "    </tr>\n",
       "  </thead>\n",
       "  <tbody>\n",
       "    <tr>\n",
       "      <th>0</th>\n",
       "      <td>2000-01-01</td>\n",
       "      <td>0.582922</td>\n",
       "      <td>-0.120947</td>\n",
       "      <td>1.093642</td>\n",
       "      <td>1.140208</td>\n",
       "    </tr>\n",
       "    <tr>\n",
       "      <th>1</th>\n",
       "      <td>2000-01-02</td>\n",
       "      <td>-1.613308</td>\n",
       "      <td>-0.846631</td>\n",
       "      <td>1.724547</td>\n",
       "      <td>1.449886</td>\n",
       "    </tr>\n",
       "    <tr>\n",
       "      <th>2</th>\n",
       "      <td>2000-01-03</td>\n",
       "      <td>-0.630238</td>\n",
       "      <td>-2.996351</td>\n",
       "      <td>1.239218</td>\n",
       "      <td>0.477373</td>\n",
       "    </tr>\n",
       "    <tr>\n",
       "      <th>3</th>\n",
       "      <td>2000-01-04</td>\n",
       "      <td>-2.688407</td>\n",
       "      <td>-2.043702</td>\n",
       "      <td>0.672786</td>\n",
       "      <td>-0.233272</td>\n",
       "    </tr>\n",
       "    <tr>\n",
       "      <th>4</th>\n",
       "      <td>2000-01-05</td>\n",
       "      <td>-3.182543</td>\n",
       "      <td>-1.190634</td>\n",
       "      <td>0.596784</td>\n",
       "      <td>-1.651477</td>\n",
       "    </tr>\n",
       "    <tr>\n",
       "      <th>...</th>\n",
       "      <td>...</td>\n",
       "      <td>...</td>\n",
       "      <td>...</td>\n",
       "      <td>...</td>\n",
       "      <td>...</td>\n",
       "    </tr>\n",
       "    <tr>\n",
       "      <th>995</th>\n",
       "      <td>2002-09-22</td>\n",
       "      <td>-4.327248</td>\n",
       "      <td>30.504896</td>\n",
       "      <td>-10.477215</td>\n",
       "      <td>42.606414</td>\n",
       "    </tr>\n",
       "    <tr>\n",
       "      <th>996</th>\n",
       "      <td>2002-09-23</td>\n",
       "      <td>-4.256974</td>\n",
       "      <td>30.271511</td>\n",
       "      <td>-9.210389</td>\n",
       "      <td>43.005460</td>\n",
       "    </tr>\n",
       "    <tr>\n",
       "      <th>997</th>\n",
       "      <td>2002-09-24</td>\n",
       "      <td>-4.102504</td>\n",
       "      <td>30.375037</td>\n",
       "      <td>-9.057961</td>\n",
       "      <td>42.447915</td>\n",
       "    </tr>\n",
       "    <tr>\n",
       "      <th>998</th>\n",
       "      <td>2002-09-25</td>\n",
       "      <td>-4.325395</td>\n",
       "      <td>31.310130</td>\n",
       "      <td>-8.816517</td>\n",
       "      <td>42.790825</td>\n",
       "    </tr>\n",
       "    <tr>\n",
       "      <th>999</th>\n",
       "      <td>2002-09-26</td>\n",
       "      <td>-4.645635</td>\n",
       "      <td>33.419128</td>\n",
       "      <td>-8.429394</td>\n",
       "      <td>43.002077</td>\n",
       "    </tr>\n",
       "  </tbody>\n",
       "</table>\n",
       "<p>1000 rows × 5 columns</p>\n",
       "</div>"
      ],
      "text/plain": [
       "    Unnamed: 0         A          B          C          D\n",
       "0   2000-01-01  0.582922  -0.120947   1.093642   1.140208\n",
       "1   2000-01-02 -1.613308  -0.846631   1.724547   1.449886\n",
       "2   2000-01-03 -0.630238  -2.996351   1.239218   0.477373\n",
       "3   2000-01-04 -2.688407  -2.043702   0.672786  -0.233272\n",
       "4   2000-01-05 -3.182543  -1.190634   0.596784  -1.651477\n",
       "..         ...       ...        ...        ...        ...\n",
       "995 2002-09-22 -4.327248  30.504896 -10.477215  42.606414\n",
       "996 2002-09-23 -4.256974  30.271511  -9.210389  43.005460\n",
       "997 2002-09-24 -4.102504  30.375037  -9.057961  42.447915\n",
       "998 2002-09-25 -4.325395  31.310130  -8.816517  42.790825\n",
       "999 2002-09-26 -4.645635  33.419128  -8.429394  43.002077\n",
       "\n",
       "[1000 rows x 5 columns]"
      ]
     },
     "execution_count": 165,
     "metadata": {},
     "output_type": "execute_result"
    }
   ],
   "source": [
    "# reading from a excel file \n",
    "pd.read_excel(\"foo.xlsx\", \"Sheet1\", index_col=None, na_values=[\"NA\"])"
   ]
  },
  {
   "cell_type": "markdown",
   "id": "b6ca45a7",
   "metadata": {},
   "source": [
    "### Matplotlib"
   ]
  },
  {
   "cell_type": "markdown",
   "id": "ef2c3797",
   "metadata": {},
   "source": [
    "# Draw a first plot!"
   ]
  },
  {
   "cell_type": "code",
   "execution_count": 252,
   "id": "3f880448",
   "metadata": {},
   "outputs": [
    {
     "data": {
      "image/png": "[encoded data removed]",
      "text/plain": [
       "<Figure size 432x288 with 1 Axes>"
      ]
     },
     "metadata": {
      "needs_background": "light"
     },
     "output_type": "display_data"
    }
   ],
   "source": [
    "import matplotlib.pyplot as plt\n",
    "import numpy as np\n",
    "\n",
    "x = np.linspace(0, 2 * np.pi, 200)\n",
    "y = np.sin(x)\n",
    "\n",
    "fig, ax = plt.subplots()\n",
    "ax.plot(x, y)\n",
    "plt.show()"
   ]
  },
  {
   "cell_type": "markdown",
   "id": "7016f219",
   "metadata": {},
   "source": []
  },
  {
   "cell_type": "markdown",
   "id": "e2071fc3",
   "metadata": {},
   "source": [
    "# What is next?\n",
    "- Data Preprocessing\n",
    "- Data Visualization"
   ]
  },
  {
   "cell_type": "code",
   "execution_count": null,
   "id": "8a78b718",
   "metadata": {},
   "outputs": [],
   "source": []
  }
 ],
 "metadata": {
  "kernelspec": {
   "display_name": "Python 3 (ipykernel)",
   "language": "python",
   "name": "python3"
  },
  "language_info": {
   "codemirror_mode": {
    "name": "ipython",
    "version": 3
   },
   "file_extension": ".py",
   "mimetype": "text/x-python",
   "name": "python",
   "nbconvert_exporter": "python",
   "pygments_lexer": "ipython3",
   "version": "3.9.7"
  }
 },
 "nbformat": 4,
 "nbformat_minor": 5
}
